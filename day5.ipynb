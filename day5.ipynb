{
 "cells": [
  {
   "cell_type": "markdown",
   "metadata": {},
   "source": [
    "## 5日目"
   ]
  },
  {
   "cell_type": "markdown",
   "metadata": {},
   "source": [
    "### モナドがいっぱい\n",
    "* モナドはある願いを叶えるための、アプリカティブ値の自然な拡張\n",
    "* 「普通の値 a をとって、文脈付きの値を返す関数に、文脈付きの値 m a を渡したい」"
   ]
  },
  {
   "cell_type": "code",
   "execution_count": 1,
   "metadata": {},
   "outputs": [
    {
     "data": {
      "text/plain": [
       "\u001b[32mimport \u001b[39m\u001b[36mscalaz._, Scalaz._\u001b[39m"
      ]
     },
     "execution_count": 1,
     "metadata": {},
     "output_type": "execute_result"
    }
   ],
   "source": [
    "import scalaz._, Scalaz._"
   ]
  },
  {
   "cell_type": "markdown",
   "metadata": {},
   "source": [
    "* モナドの型コンストラクト\n",
    "    - Applicative と Bind を拡張している\n",
    "\n",
    "```scala\n",
    "trait Monad[F[_]] extends Applicative[F] with Bind[F] { self =>\n",
    "  ////\n",
    "}\n",
    "```"
   ]
  },
  {
   "cell_type": "markdown",
   "metadata": {},
   "source": [
    "* Bindのコンストラクト\n",
    "\n",
    "```scala\n",
    "trait Bind[F[_]] extends Apply[F] { self =>\n",
    "    def bind[A, B](fa: F[A])(f: A => F[B]): F[B]\n",
    "}\n",
    "```"
   ]
  },
  {
   "cell_type": "code",
   "execution_count": 2,
   "metadata": {},
   "outputs": [
    {
     "data": {
      "text/plain": [
       "\u001b[36mres1\u001b[39m: \u001b[32mOption\u001b[39m[\u001b[32mInt\u001b[39m] = \u001b[33mSome\u001b[39m(\u001b[32m4\u001b[39m)"
      ]
     },
     "execution_count": 2,
     "metadata": {},
     "output_type": "execute_result"
    }
   ],
   "source": [
    "3.some flatMap { x => (x + 1).some }"
   ]
  },
  {
   "cell_type": "code",
   "execution_count": 3,
   "metadata": {},
   "outputs": [
    {
     "data": {
      "text/plain": [
       "\u001b[36mres2\u001b[39m: \u001b[32mOption\u001b[39m[\u001b[32mInt\u001b[39m] = None"
      ]
     },
     "execution_count": 3,
     "metadata": {},
     "output_type": "execute_result"
    }
   ],
   "source": [
    "(none: Option[Int]) flatMap { x => (x + 1).some }"
   ]
  },
  {
   "cell_type": "markdown",
   "metadata": {},
   "source": [
    "* Bindは、Optionalとかで包まれている場合でも、その中身を操作できるってこと?"
   ]
  },
  {
   "cell_type": "code",
   "execution_count": 4,
   "metadata": {},
   "outputs": [
    {
     "data": {
      "text/plain": [
       "\u001b[36mres3\u001b[39m: \u001b[32mOption\u001b[39m[\u001b[32mString\u001b[39m] = \u001b[33mSome\u001b[39m(\u001b[32m\"WHAT\"\u001b[39m)"
      ]
     },
     "execution_count": 4,
     "metadata": {},
     "output_type": "execute_result"
    }
   ],
   "source": [
    "Monad[Option].point(\"WHAT\")"
   ]
  },
  {
   "cell_type": "code",
   "execution_count": 5,
   "metadata": {},
   "outputs": [
    {
     "data": {
      "text/plain": [
       "\u001b[36mres4\u001b[39m: \u001b[32mOption\u001b[39m[\u001b[32mInt\u001b[39m] = \u001b[33mSome\u001b[39m(\u001b[32m90\u001b[39m)"
      ]
     },
     "execution_count": 5,
     "metadata": {},
     "output_type": "execute_result"
    }
   ],
   "source": [
    "9.some flatMap { x => Monad[Option].point(x * 10) }"
   ]
  },
  {
   "cell_type": "code",
   "execution_count": 6,
   "metadata": {},
   "outputs": [
    {
     "data": {
      "text/plain": [
       "\u001b[36mres5\u001b[39m: \u001b[32mOption\u001b[39m[\u001b[32mInt\u001b[39m] = None"
      ]
     },
     "execution_count": 6,
     "metadata": {},
     "output_type": "execute_result"
    }
   ],
   "source": [
    "(none: Option[Int]) flatMap {x => Monad[Option].point(x * 10) }"
   ]
  },
  {
   "cell_type": "markdown",
   "metadata": {},
   "source": [
    "### 綱渡り\n",
    "* H本の　Pole　の例題とやらを実装する"
   ]
  },
  {
   "cell_type": "code",
   "execution_count": 7,
   "metadata": {},
   "outputs": [
    {
     "data": {
      "text/plain": [
       "defined \u001b[32mtype\u001b[39m \u001b[36mBirds\u001b[39m"
      ]
     },
     "execution_count": 7,
     "metadata": {},
     "output_type": "execute_result"
    }
   ],
   "source": [
    "type Birds = Int"
   ]
  },
  {
   "cell_type": "code",
   "execution_count": 8,
   "metadata": {},
   "outputs": [
    {
     "data": {
      "text/plain": [
       "defined \u001b[32mclass\u001b[39m \u001b[36mPole\u001b[39m"
      ]
     },
     "execution_count": 8,
     "metadata": {},
     "output_type": "execute_result"
    }
   ],
   "source": [
    "case class Pole(left: Birds, right: Birds)"
   ]
  },
  {
   "cell_type": "code",
   "execution_count": 9,
   "metadata": {},
   "outputs": [
    {
     "data": {
      "text/plain": [
       "defined \u001b[32mclass\u001b[39m \u001b[36mPole\u001b[39m"
      ]
     },
     "execution_count": 9,
     "metadata": {},
     "output_type": "execute_result"
    }
   ],
   "source": [
    "case class Pole(left: Birds, right: Birds) {\n",
    "    def landLeft(n: Birds): Pole = copy(left = left + n)\n",
    "    def landRight(n: Birds): Pole = copy(right = right + n)\n",
    "}"
   ]
  },
  {
   "cell_type": "code",
   "execution_count": 10,
   "metadata": {},
   "outputs": [
    {
     "data": {
      "text/plain": [
       "\u001b[36mres9\u001b[39m: \u001b[32mPole\u001b[39m = \u001b[33mPole\u001b[39m(\u001b[32m2\u001b[39m, \u001b[32m0\u001b[39m)"
      ]
     },
     "execution_count": 10,
     "metadata": {},
     "output_type": "execute_result"
    }
   ],
   "source": [
    "Pole(0, 0).landLeft(2)"
   ]
  },
  {
   "cell_type": "code",
   "execution_count": 11,
   "metadata": {},
   "outputs": [
    {
     "data": {
      "text/plain": [
       "\u001b[36mres10\u001b[39m: \u001b[32mPole\u001b[39m = \u001b[33mPole\u001b[39m(\u001b[32m1\u001b[39m, \u001b[32m3\u001b[39m)"
      ]
     },
     "execution_count": 11,
     "metadata": {},
     "output_type": "execute_result"
    }
   ],
   "source": [
    "Pole(1, 2).landRight(1)"
   ]
  },
  {
   "cell_type": "code",
   "execution_count": 12,
   "metadata": {},
   "outputs": [
    {
     "data": {
      "text/plain": [
       "\u001b[36mres11\u001b[39m: \u001b[32mPole\u001b[39m = \u001b[33mPole\u001b[39m(\u001b[32m1\u001b[39m, \u001b[32m1\u001b[39m)"
      ]
     },
     "execution_count": 12,
     "metadata": {},
     "output_type": "execute_result"
    }
   ],
   "source": [
    "Pole(1, 2).landRight(-1)"
   ]
  },
  {
   "cell_type": "code",
   "execution_count": 13,
   "metadata": {},
   "outputs": [
    {
     "data": {
      "text/plain": [
       "\u001b[36mres12\u001b[39m: \u001b[32mPole\u001b[39m = \u001b[33mPole\u001b[39m(\u001b[32m3\u001b[39m, \u001b[32m1\u001b[39m)"
      ]
     },
     "execution_count": 13,
     "metadata": {},
     "output_type": "execute_result"
    }
   ],
   "source": [
    "Pole(0, 0).landLeft(1).landRight(1).landLeft(2)"
   ]
  },
  {
   "cell_type": "code",
   "execution_count": 14,
   "metadata": {},
   "outputs": [
    {
     "data": {
      "text/plain": [
       "\u001b[36mres13\u001b[39m: \u001b[32mPole\u001b[39m = \u001b[33mPole\u001b[39m(\u001b[32m0\u001b[39m, \u001b[32m2\u001b[39m)"
      ]
     },
     "execution_count": 14,
     "metadata": {},
     "output_type": "execute_result"
    }
   ],
   "source": [
    "Pole(0, 0).landLeft(1).landRight(4).landLeft(-1).landRight(-2)"
   ]
  },
  {
   "cell_type": "code",
   "execution_count": 16,
   "metadata": {},
   "outputs": [
    {
     "data": {
      "text/plain": [
       "defined \u001b[32mclass\u001b[39m \u001b[36mPole\u001b[39m"
      ]
     },
     "execution_count": 16,
     "metadata": {},
     "output_type": "execute_result"
    }
   ],
   "source": [
    "case class Pole(left: Birds, right: Birds) {\n",
    "    def landLeft(n: Birds): Option[Pole] =\n",
    "        if (math.abs((left + n) - right) < 4) copy(left = left + n).some\n",
    "        else none\n",
    "    def landRight(n: Birds): Option[Pole] =\n",
    "        if (math.abs(left - (right + n)) < 4) copy(right = right + n).some\n",
    "        else none\n",
    "}"
   ]
  },
  {
   "cell_type": "code",
   "execution_count": 17,
   "metadata": {},
   "outputs": [
    {
     "data": {
      "text/plain": [
       "\u001b[36mres16_0\u001b[39m: \u001b[32mOption\u001b[39m[\u001b[32mPole\u001b[39m] = \u001b[33mSome\u001b[39m(\u001b[33mPole\u001b[39m(\u001b[32m2\u001b[39m, \u001b[32m0\u001b[39m))\n",
       "\u001b[36mres16_1\u001b[39m: \u001b[32mOption\u001b[39m[\u001b[32mPole\u001b[39m] = None"
      ]
     },
     "execution_count": 17,
     "metadata": {},
     "output_type": "execute_result"
    }
   ],
   "source": [
    "Pole(0, 0).landLeft(2)\n",
    "Pole(0, 3).landLeft(10)"
   ]
  },
  {
   "cell_type": "code",
   "execution_count": 18,
   "metadata": {},
   "outputs": [
    {
     "data": {
      "text/plain": [
       "\u001b[36mres17\u001b[39m: \u001b[32mOption\u001b[39m[\u001b[32mPole\u001b[39m] = \u001b[33mSome\u001b[39m(\u001b[33mPole\u001b[39m(\u001b[32m2\u001b[39m, \u001b[32m1\u001b[39m))"
      ]
     },
     "execution_count": 18,
     "metadata": {},
     "output_type": "execute_result"
    }
   ],
   "source": [
    "Pole(0, 0).landRight(1) flatMap {_.landLeft(2)}"
   ]
  },
  {
   "cell_type": "code",
   "execution_count": 19,
   "metadata": {},
   "outputs": [
    {
     "data": {
      "text/plain": [
       "\u001b[36mres18\u001b[39m: \u001b[32mOption\u001b[39m[\u001b[32mPole\u001b[39m] = None"
      ]
     },
     "execution_count": 19,
     "metadata": {},
     "output_type": "execute_result"
    }
   ],
   "source": [
    "(none: Option[Pole]) flatMap {_.landLeft(2)}"
   ]
  },
  {
   "cell_type": "code",
   "execution_count": 20,
   "metadata": {},
   "outputs": [
    {
     "data": {
      "text/plain": [
       "\u001b[36mres19\u001b[39m: \u001b[32mOption\u001b[39m[\u001b[32mPole\u001b[39m] = \u001b[33mSome\u001b[39m(\u001b[33mPole\u001b[39m(\u001b[32m2\u001b[39m, \u001b[32m2\u001b[39m))"
      ]
     },
     "execution_count": 20,
     "metadata": {},
     "output_type": "execute_result"
    }
   ],
   "source": [
    "Monad[Option].point(Pole(0, 0)) flatMap {_.landRight(2)} flatMap {_.landLeft(2)}"
   ]
  },
  {
   "cell_type": "code",
   "execution_count": 22,
   "metadata": {},
   "outputs": [
    {
     "data": {
      "text/plain": [
       "\u001b[36mres21\u001b[39m: \u001b[32mOption\u001b[39m[\u001b[32mPole\u001b[39m] = \u001b[33mSome\u001b[39m(\u001b[33mPole\u001b[39m(\u001b[32m2\u001b[39m, \u001b[32m4\u001b[39m))"
      ]
     },
     "execution_count": 22,
     "metadata": {},
     "output_type": "execute_result"
    }
   ],
   "source": [
    "Monad[Option].point(Pole(0, 0)) >>= {_.landRight(2)} >>= {_.landLeft(2)} >>=  {_.landRight(2)}"
   ]
  },
  {
   "cell_type": "code",
   "execution_count": 23,
   "metadata": {},
   "outputs": [
    {
     "data": {
      "text/plain": [
       "\u001b[36mres22\u001b[39m: \u001b[32mOption\u001b[39m[\u001b[32mPole\u001b[39m] = None"
      ]
     },
     "execution_count": 23,
     "metadata": {},
     "output_type": "execute_result"
    }
   ],
   "source": [
    "Monad[Option].point(Pole(0, 0)) >>= {_.landLeft(1)} >>= {_.landRight(4)} >>=  {_.landLeft(-1)} >>= {_.landRight(-2)}"
   ]
  },
  {
   "cell_type": "code",
   "execution_count": 27,
   "metadata": {},
   "outputs": [
    {
     "data": {
      "text/plain": [
       "\u001b[36mres26\u001b[39m: \u001b[32mOption\u001b[39m[\u001b[32mPole\u001b[39m] = None"
      ]
     },
     "execution_count": 27,
     "metadata": {},
     "output_type": "execute_result"
    }
   ],
   "source": [
    "Pole(0, 0).some >>= {_.landLeft(1)} >>= {_.landRight(4)} >>=  {_.landLeft(-1)} >>= {_.landRight(-2)}"
   ]
  },
  {
   "cell_type": "markdown",
   "metadata": {},
   "source": [
    "* Option で包んであっても Functor 使えば別に大丈夫だった\n",
    "* `Monad[Option].point(Pole(0, 0))` は `Pole(0, 0).some` と同じ結果なら別にメリット感じなくない?"
   ]
  },
  {
   "cell_type": "code",
   "execution_count": 31,
   "metadata": {},
   "outputs": [
    {
     "data": {
      "text/plain": [
       "\u001b[36mres30_0\u001b[39m: \u001b[32mOption\u001b[39m[\u001b[32mPole\u001b[39m] = \u001b[33mSome\u001b[39m(\u001b[33mPole\u001b[39m(\u001b[32m0\u001b[39m, \u001b[32m0\u001b[39m))\n",
       "\u001b[36mres30_1\u001b[39m: \u001b[32mOption\u001b[39m[\u001b[32mPole\u001b[39m] = \u001b[33mSome\u001b[39m(\u001b[33mPole\u001b[39m(\u001b[32m0\u001b[39m, \u001b[32m0\u001b[39m))"
      ]
     },
     "execution_count": 31,
     "metadata": {},
     "output_type": "execute_result"
    }
   ],
   "source": [
    "Monad[Option].point(Pole(0, 0))\n",
    "Pole(0, 0).some"
   ]
  },
  {
   "cell_type": "markdown",
   "metadata": {},
   "source": [
    "### ロープの上のバナナ\n",
    "* 鳥の数に関係なく、いきなりピエールを滑らせて落っことす"
   ]
  },
  {
   "cell_type": "code",
   "execution_count": 32,
   "metadata": {},
   "outputs": [
    {
     "data": {
      "text/plain": [
       "defined \u001b[32mclass\u001b[39m \u001b[36mPole\u001b[39m"
      ]
     },
     "execution_count": 32,
     "metadata": {},
     "output_type": "execute_result"
    }
   ],
   "source": [
    "case class Pole(left: Birds, right: Birds) {\n",
    "    def landLeft(n: Birds): Option[Pole] =\n",
    "        if (math.abs((left + n) - right) < 4) copy(left = left + n).some\n",
    "        else none\n",
    "    def landRight(n: Birds): Option[Pole] =\n",
    "        if (math.abs(left - (right + n)) < 4) copy(right = right + n).some\n",
    "        else none\n",
    "    def banana: Option[Pole] = none\n",
    "}"
   ]
  },
  {
   "cell_type": "code",
   "execution_count": 33,
   "metadata": {},
   "outputs": [
    {
     "data": {
      "text/plain": [
       "\u001b[36mres32\u001b[39m: \u001b[32mOption\u001b[39m[\u001b[32mPole\u001b[39m] = None"
      ]
     },
     "execution_count": 33,
     "metadata": {},
     "output_type": "execute_result"
    }
   ],
   "source": [
    "Monad[Option].point(Pole(0, 0)) >>= {_.landLeft(1)} >>= {_.banana} >>=  {_.landRight(1)}"
   ]
  },
  {
   "cell_type": "markdown",
   "metadata": {},
   "source": [
    "* 入力に関係なく規定のモナド値を返す関数だったら、自作せずにも `>>` 関数を使える"
   ]
  },
  {
   "cell_type": "code",
   "execution_count": 34,
   "metadata": {},
   "outputs": [
    {
     "data": {
      "text/plain": [
       "\u001b[36mres33\u001b[39m: \u001b[32mOption\u001b[39m[\u001b[32mInt\u001b[39m] = None"
      ]
     },
     "execution_count": 34,
     "metadata": {},
     "output_type": "execute_result"
    }
   ],
   "source": [
    "(none: Option[Int]) >> 3.some"
   ]
  },
  {
   "cell_type": "code",
   "execution_count": 35,
   "metadata": {},
   "outputs": [
    {
     "data": {
      "text/plain": [
       "\u001b[36mres34\u001b[39m: \u001b[32mOption\u001b[39m[\u001b[32mInt\u001b[39m] = \u001b[33mSome\u001b[39m(\u001b[32m4\u001b[39m)"
      ]
     },
     "execution_count": 35,
     "metadata": {},
     "output_type": "execute_result"
    }
   ],
   "source": [
    "3.some >> 4.some"
   ]
  },
  {
   "cell_type": "code",
   "execution_count": 36,
   "metadata": {},
   "outputs": [
    {
     "data": {
      "text/plain": [
       "\u001b[36mres35\u001b[39m: \u001b[32mOption\u001b[39m[\u001b[32mInt\u001b[39m] = None"
      ]
     },
     "execution_count": 36,
     "metadata": {},
     "output_type": "execute_result"
    }
   ],
   "source": [
    "3.some >> (none: Option[Int])"
   ]
  },
  {
   "cell_type": "code",
   "execution_count": 37,
   "metadata": {},
   "outputs": [
    {
     "data": {
      "text/plain": [
       "\u001b[36mres36\u001b[39m: \u001b[32mOption\u001b[39m[\u001b[32mInt\u001b[39m] = \u001b[33mSome\u001b[39m(\u001b[32m7\u001b[39m)"
      ]
     },
     "execution_count": 37,
     "metadata": {},
     "output_type": "execute_result"
    }
   ],
   "source": [
    "3.some |+| 4.some"
   ]
  },
  {
   "cell_type": "code",
   "execution_count": 38,
   "metadata": {},
   "outputs": [
    {
     "data": {
      "text/plain": [
       "\u001b[36mres37\u001b[39m: \u001b[32mOption\u001b[39m[\u001b[32mInt\u001b[39m] = \u001b[33mSome\u001b[39m(\u001b[32m3\u001b[39m)"
      ]
     },
     "execution_count": 38,
     "metadata": {},
     "output_type": "execute_result"
    }
   ],
   "source": [
    "4.some >> 3.some"
   ]
  },
  {
   "cell_type": "code",
   "execution_count": 38,
   "metadata": {},
   "outputs": [
    {
     "name": "stderr",
     "output_type": "stream",
     "text": [
      "cmd38.sc:1: missing parameter type for expanded function ((x$1) => x$1.landLeft(1))\n",
      "val res38 = Monad[Option].point(Pole(0, 0)) >>= {_.landLeft(1)} >> (none: Option[Pole]) >>= {_.landRight(1)}\n",
      "                                                 ^"
     ]
    },
    {
     "ename": "",
     "evalue": "",
     "execution_count": 38,
     "output_type": "error",
     "status": "error",
     "traceback": [
      "Compilation Failed"
     ]
    }
   ],
   "source": [
    "Monad[Option].point(Pole(0, 0)) >>= {_.landLeft(1)} >> (none: Option[Pole]) >>= {_.landRight(1)}"
   ]
  },
  {
   "cell_type": "code",
   "execution_count": 39,
   "metadata": {},
   "outputs": [
    {
     "data": {
      "text/plain": [
       "\u001b[36mres38\u001b[39m: \u001b[32mOption\u001b[39m[\u001b[32mPole\u001b[39m] = None"
      ]
     },
     "execution_count": 39,
     "metadata": {},
     "output_type": "execute_result"
    }
   ],
   "source": [
    "Monad[Option].point(Pole(0, 0)).>>=({_.landLeft(1)}).>>(none: Option[Pole]).>>=({_.landRight(1)})"
   ]
  },
  {
   "cell_type": "code",
   "execution_count": 40,
   "metadata": {},
   "outputs": [
    {
     "data": {
      "text/plain": [
       "\u001b[36mres39\u001b[39m: \u001b[32mOption\u001b[39m[\u001b[32mPole\u001b[39m] = None"
      ]
     },
     "execution_count": 40,
     "metadata": {},
     "output_type": "execute_result"
    }
   ],
   "source": [
    "(Monad[Option].point(Pole(0, 0)) >>= {_.landLeft(1)}) >> (none: Option[Pole]) >>= {_.landRight(1)}"
   ]
  },
  {
   "cell_type": "markdown",
   "metadata": {},
   "source": [
    "### for 構文\n",
    "* Haskell にとってモナドはとても便利なので、モナド専用構文まで用意されている\n",
    "* do 記法"
   ]
  },
  {
   "cell_type": "code",
   "execution_count": 47,
   "metadata": {},
   "outputs": [
    {
     "data": {
      "text/plain": [
       "\u001b[36mres46\u001b[39m: \u001b[32mOption\u001b[39m[\u001b[32mString\u001b[39m] = \u001b[33mSome\u001b[39m(\u001b[32m\"3!\"\u001b[39m)"
      ]
     },
     "execution_count": 47,
     "metadata": {},
     "output_type": "execute_result"
    }
   ],
   "source": [
    "3.some >>= { x => \"!\".some >>= { y => (x.shows + y).some } }"
   ]
  },
  {
   "cell_type": "code",
   "execution_count": 43,
   "metadata": {},
   "outputs": [
    {
     "data": {
      "text/plain": [
       "\u001b[36mres42\u001b[39m: \u001b[32mOption\u001b[39m[\u001b[32mString\u001b[39m] = None"
      ]
     },
     "execution_count": 43,
     "metadata": {},
     "output_type": "execute_result"
    }
   ],
   "source": [
    "1.some >>= {x => (none: Option[String]) >>= { y => (x.shows + y).some } }"
   ]
  },
  {
   "cell_type": "code",
   "execution_count": 44,
   "metadata": {},
   "outputs": [
    {
     "data": {
      "text/plain": [
       "\u001b[36mres43\u001b[39m: \u001b[32mOption\u001b[39m[\u001b[32mString\u001b[39m] = None"
      ]
     },
     "execution_count": 44,
     "metadata": {},
     "output_type": "execute_result"
    }
   ],
   "source": [
    "(none: Option[Int]) >>= {x => \"!\".some >>= { y => (x.shows + y).some } }"
   ]
  },
  {
   "cell_type": "code",
   "execution_count": 45,
   "metadata": {},
   "outputs": [
    {
     "data": {
      "text/plain": [
       "\u001b[36mres44\u001b[39m: \u001b[32mOption\u001b[39m[\u001b[32mString\u001b[39m] = None"
      ]
     },
     "execution_count": 45,
     "metadata": {},
     "output_type": "execute_result"
    }
   ],
   "source": [
    "3.some >>= {x => \"!\".some >>= { y => (none: Option[String]) } }"
   ]
  },
  {
   "cell_type": "code",
   "execution_count": 48,
   "metadata": {},
   "outputs": [
    {
     "data": {
      "text/plain": [
       "\u001b[36mres47\u001b[39m: \u001b[32mOption\u001b[39m[\u001b[32mString\u001b[39m] = \u001b[33mSome\u001b[39m(\u001b[32m\"3!\"\u001b[39m)"
      ]
     },
     "execution_count": 48,
     "metadata": {},
     "output_type": "execute_result"
    }
   ],
   "source": [
    "for {\n",
    "    x <- 3.some\n",
    "    y <- \"!\".some\n",
    "} yield (x.shows + y)"
   ]
  },
  {
   "cell_type": "markdown",
   "metadata": {},
   "source": [
    "* do 式は let 行を除いて全てモナド値で構成される\n",
    "* Scala の for 構文もおそらくそう"
   ]
  },
  {
   "cell_type": "code",
   "execution_count": 49,
   "metadata": {},
   "outputs": [
    {
     "data": {
      "text/plain": [
       "defined \u001b[32mfunction\u001b[39m \u001b[36mroutine\u001b[39m"
      ]
     },
     "execution_count": 49,
     "metadata": {},
     "output_type": "execute_result"
    }
   ],
   "source": [
    "def routine: Option[Pole] =\n",
    "  for {\n",
    "      start <- Monad[Option].point(Pole(0, 0))\n",
    "      first <- start.landLeft(2)\n",
    "      second <- first.landRight(2)\n",
    "      third <- second.landLeft(1)\n",
    "  } yield third"
   ]
  },
  {
   "cell_type": "code",
   "execution_count": 50,
   "metadata": {},
   "outputs": [
    {
     "data": {
      "text/plain": [
       "\u001b[36mres49\u001b[39m: \u001b[32mOption\u001b[39m[\u001b[32mPole\u001b[39m] = \u001b[33mSome\u001b[39m(\u001b[33mPole\u001b[39m(\u001b[32m3\u001b[39m, \u001b[32m2\u001b[39m))"
      ]
     },
     "execution_count": 50,
     "metadata": {},
     "output_type": "execute_result"
    }
   ],
   "source": [
    "routine"
   ]
  },
  {
   "cell_type": "code",
   "execution_count": 51,
   "metadata": {},
   "outputs": [
    {
     "data": {
      "text/plain": [
       "defined \u001b[32mfunction\u001b[39m \u001b[36mroutine\u001b[39m"
      ]
     },
     "execution_count": 51,
     "metadata": {},
     "output_type": "execute_result"
    }
   ],
   "source": [
    "def routine: Option[Pole] =\n",
    "  for {\n",
    "      start <- Monad[Option].point(Pole(0, 0))\n",
    "      first <- start.landLeft(2)\n",
    "      _ <- (none: Option[Pole])\n",
    "      second <- first.landRight(2)\n",
    "      third <- second.landLeft(1)\n",
    "  } yield third"
   ]
  },
  {
   "cell_type": "code",
   "execution_count": 52,
   "metadata": {},
   "outputs": [
    {
     "data": {
      "text/plain": [
       "\u001b[36mres51\u001b[39m: \u001b[32mOption\u001b[39m[\u001b[32mPole\u001b[39m] = None"
      ]
     },
     "execution_count": 52,
     "metadata": {},
     "output_type": "execute_result"
    }
   ],
   "source": [
    "routine"
   ]
  },
  {
   "cell_type": "markdown",
   "metadata": {},
   "source": [
    "### パターンマッチングと失敗"
   ]
  },
  {
   "cell_type": "code",
   "execution_count": 53,
   "metadata": {},
   "outputs": [
    {
     "data": {
      "text/plain": [
       "defined \u001b[32mfunction\u001b[39m \u001b[36mjustH\u001b[39m"
      ]
     },
     "execution_count": 53,
     "metadata": {},
     "output_type": "execute_result"
    }
   ],
   "source": [
    "def justH: Option[Char] =\n",
    "  for {\n",
    "      (x :: xs) <- \"hello\".toList.some\n",
    "  } yield x"
   ]
  },
  {
   "cell_type": "code",
   "execution_count": 54,
   "metadata": {},
   "outputs": [
    {
     "data": {
      "text/plain": [
       "\u001b[36mres53\u001b[39m: \u001b[32mOption\u001b[39m[\u001b[32mChar\u001b[39m] = \u001b[33mSome\u001b[39m(\u001b[32m'h'\u001b[39m)"
      ]
     },
     "execution_count": 54,
     "metadata": {},
     "output_type": "execute_result"
    }
   ],
   "source": [
    "justH"
   ]
  },
  {
   "cell_type": "code",
   "execution_count": 55,
   "metadata": {},
   "outputs": [
    {
     "data": {
      "text/plain": [
       "defined \u001b[32mfunction\u001b[39m \u001b[36mwopwop\u001b[39m"
      ]
     },
     "execution_count": 55,
     "metadata": {},
     "output_type": "execute_result"
    }
   ],
   "source": [
    "def wopwop: Option[Char] =\n",
    "  for {\n",
    "      (x :: xs) <- \"\".toList.some\n",
    "  } yield x"
   ]
  },
  {
   "cell_type": "code",
   "execution_count": 56,
   "metadata": {},
   "outputs": [
    {
     "data": {
      "text/plain": [
       "\u001b[36mres55\u001b[39m: \u001b[32mOption\u001b[39m[\u001b[32mChar\u001b[39m] = None"
      ]
     },
     "execution_count": 56,
     "metadata": {},
     "output_type": "execute_result"
    }
   ],
   "source": [
    "wopwop"
   ]
  },
  {
   "cell_type": "markdown",
   "metadata": {},
   "source": [
    "### List モナド"
   ]
  },
  {
   "cell_type": "code",
   "execution_count": 57,
   "metadata": {},
   "outputs": [
    {
     "data": {
      "text/plain": [
       "\u001b[36mres56\u001b[39m: \u001b[32mList\u001b[39m[\u001b[32mInt\u001b[39m] = \u001b[33mList\u001b[39m(\u001b[32m10\u001b[39m, \u001b[32m100\u001b[39m, \u001b[32m100\u001b[39m, \u001b[32m20\u001b[39m, \u001b[32m200\u001b[39m, \u001b[32m200\u001b[39m, \u001b[32m30\u001b[39m, \u001b[32m300\u001b[39m, \u001b[32m300\u001b[39m)"
      ]
     },
     "execution_count": 57,
     "metadata": {},
     "output_type": "execute_result"
    }
   ],
   "source": [
    "^(List(1, 2, 3), List(10, 100, 100)) {_ * _}"
   ]
  },
  {
   "cell_type": "code",
   "execution_count": 58,
   "metadata": {},
   "outputs": [
    {
     "data": {
      "text/plain": [
       "\u001b[36mres57\u001b[39m: \u001b[32mList\u001b[39m[\u001b[32mInt\u001b[39m] = \u001b[33mList\u001b[39m(\u001b[32m3\u001b[39m, \u001b[32m-3\u001b[39m, \u001b[32m4\u001b[39m, \u001b[32m-4\u001b[39m, \u001b[32m5\u001b[39m, \u001b[32m-5\u001b[39m)"
      ]
     },
     "execution_count": 58,
     "metadata": {},
     "output_type": "execute_result"
    }
   ],
   "source": [
    "List(3, 4, 5) >>= {x => List(x, -x)}"
   ]
  },
  {
   "cell_type": "code",
   "execution_count": 59,
   "metadata": {},
   "outputs": [
    {
     "data": {
      "text/plain": [
       "\u001b[36mres58\u001b[39m: \u001b[32mList\u001b[39m[(\u001b[32mInt\u001b[39m, \u001b[32mChar\u001b[39m)] = \u001b[33mList\u001b[39m((\u001b[32m1\u001b[39m, \u001b[32m'a'\u001b[39m), (\u001b[32m1\u001b[39m, \u001b[32m'b'\u001b[39m), (\u001b[32m2\u001b[39m, \u001b[32m'a'\u001b[39m), (\u001b[32m2\u001b[39m, \u001b[32m'b'\u001b[39m))"
      ]
     },
     "execution_count": 59,
     "metadata": {},
     "output_type": "execute_result"
    }
   ],
   "source": [
    "for {\n",
    "    n <- List(1, 2)\n",
    "    ch <- List('a', 'b')\n",
    "} yield (n, ch)"
   ]
  },
  {
   "cell_type": "markdown",
   "metadata": {},
   "source": [
    "### MonadPlus と guard 関数\n",
    "* Scala の for 構文はフィルタリングができる"
   ]
  },
  {
   "cell_type": "code",
   "execution_count": 60,
   "metadata": {},
   "outputs": [
    {
     "data": {
      "text/plain": [
       "\u001b[36mres59\u001b[39m: \u001b[32mList\u001b[39m[\u001b[32mInt\u001b[39m] = \u001b[33mList\u001b[39m(\u001b[32m7\u001b[39m, \u001b[32m17\u001b[39m, \u001b[32m27\u001b[39m, \u001b[32m37\u001b[39m, \u001b[32m47\u001b[39m)"
      ]
     },
     "execution_count": 60,
     "metadata": {},
     "output_type": "execute_result"
    }
   ],
   "source": [
    "for {\n",
    "    x <- 1 |-> 50 if x.shows contains '7'\n",
    "} yield x"
   ]
  },
  {
   "cell_type": "markdown",
   "metadata": {},
   "source": [
    "* MonadPlus は、モノイドの性質を併せ持つモナドを表す型クラス\n",
    "\n",
    "* MonadPlus の型クラスのコントラクト\n",
    "\n",
    "```scala\n",
    "trait MonadPlus[F[_]] extends Monad[F] with ApplicativePlus[F] { self =>\n",
    "    ...\n",
    "}\n",
    "```"
   ]
  },
  {
   "cell_type": "markdown",
   "metadata": {},
   "source": [
    "### Plus, PlusEmpty と ApplicativePlus\n",
    "* これは ApplicativePlus を継承している\n",
    "\n",
    "```scala\n",
    "trait ApplicativePlus[F[_]] extends Applicative[F] with PlusEmpty[F] { self =>\n",
    "  ...\n",
    "}\n",
    "```\n",
    "\n",
    "* そしてそれは、 PlusEmpty を継承している\n",
    "\n",
    "```scala\n",
    "trait PlusEmpty[F[_]] extends Plus[F] { self =>\n",
    "  ////\n",
    "  def empty[A]: F[A]\n",
    "}\n",
    "```\n",
    "\n",
    "* Plus は２つのコンテナを連結する `<+>` 演算子を導入する"
   ]
  },
  {
   "cell_type": "code",
   "execution_count": 61,
   "metadata": {},
   "outputs": [
    {
     "data": {
      "text/plain": [
       "\u001b[36mres60\u001b[39m: \u001b[32mList\u001b[39m[\u001b[32mInt\u001b[39m] = \u001b[33mList\u001b[39m(\u001b[32m1\u001b[39m, \u001b[32m2\u001b[39m, \u001b[32m3\u001b[39m, \u001b[32m4\u001b[39m, \u001b[32m5\u001b[39m, \u001b[32m6\u001b[39m)"
      ]
     },
     "execution_count": 61,
     "metadata": {},
     "output_type": "execute_result"
    }
   ],
   "source": [
    "List(1, 2, 3) <+> List(4, 5, 6)"
   ]
  },
  {
   "cell_type": "code",
   "execution_count": 62,
   "metadata": {},
   "outputs": [
    {
     "data": {
      "text/plain": [
       "\u001b[36mres61\u001b[39m: \u001b[32mList\u001b[39m[\u001b[32mInt\u001b[39m] = \u001b[33mList\u001b[39m(\u001b[32m7\u001b[39m, \u001b[32m17\u001b[39m, \u001b[32m27\u001b[39m, \u001b[32m37\u001b[39m, \u001b[32m47\u001b[39m)"
      ]
     },
     "execution_count": 62,
     "metadata": {},
     "output_type": "execute_result"
    }
   ],
   "source": [
    "(1 |-> 50) filter { x => x.shows contains '7' }"
   ]
  },
  {
   "cell_type": "markdown",
   "metadata": {},
   "source": [
    "### 騎士の旅\n",
    "\n",
    "ここで、非決定性計算を使って解くのにうってつけの問題をご紹介しましょう。チェス盤の上にナイトの駒が1つだけ乗っています。\n",
    "ナイトを３回動かして特定のマスまで移動させられるか、というのが問題です。"
   ]
  },
  {
   "cell_type": "code",
   "execution_count": 63,
   "metadata": {},
   "outputs": [
    {
     "data": {
      "text/plain": [
       "defined \u001b[32mclass\u001b[39m \u001b[36mKnightPos\u001b[39m"
      ]
     },
     "execution_count": 63,
     "metadata": {},
     "output_type": "execute_result"
    }
   ],
   "source": [
    "case class KnightPos(c: Int, r: Int)"
   ]
  },
  {
   "cell_type": "code",
   "execution_count": 64,
   "metadata": {},
   "outputs": [
    {
     "data": {
      "text/plain": [
       "defined \u001b[32mclass\u001b[39m \u001b[36mKnightPos\u001b[39m"
      ]
     },
     "execution_count": 64,
     "metadata": {},
     "output_type": "execute_result"
    }
   ],
   "source": [
    "case class KnightPos(c: Int, r: Int) {\n",
    "    def move: List[KnightPos] =\n",
    "      for {\n",
    "          KnightPos(c2, r2) <- List(KnightPos(c + 2, r - 1), KnightPos(c + 2, r + 1),\n",
    "                                    KnightPos(c - 2, r - 1), KnightPos(c - 2, r + 1),\n",
    "                                    KnightPos(c + 1, r - 2), KnightPos(c + 1, r + 2),\n",
    "                                    KnightPos(c - 1, r - 2), KnightPos(c - 1, r + 2)) if (\n",
    "          ((1 |-> 8) contains c2) && ((1 |-> 8) contains r2))\n",
    "      } yield KnightPos(c2, r2)\n",
    "}"
   ]
  },
  {
   "cell_type": "code",
   "execution_count": 65,
   "metadata": {},
   "outputs": [
    {
     "data": {
      "text/plain": [
       "\u001b[36mres64\u001b[39m: \u001b[32mList\u001b[39m[\u001b[32mKnightPos\u001b[39m] = \u001b[33mList\u001b[39m(\n",
       "  \u001b[33mKnightPos\u001b[39m(\u001b[32m8\u001b[39m, \u001b[32m1\u001b[39m),\n",
       "  \u001b[33mKnightPos\u001b[39m(\u001b[32m8\u001b[39m, \u001b[32m3\u001b[39m),\n",
       "  \u001b[33mKnightPos\u001b[39m(\u001b[32m4\u001b[39m, \u001b[32m1\u001b[39m),\n",
       "  \u001b[33mKnightPos\u001b[39m(\u001b[32m4\u001b[39m, \u001b[32m3\u001b[39m),\n",
       "  \u001b[33mKnightPos\u001b[39m(\u001b[32m7\u001b[39m, \u001b[32m4\u001b[39m),\n",
       "  \u001b[33mKnightPos\u001b[39m(\u001b[32m5\u001b[39m, \u001b[32m4\u001b[39m)\n",
       ")"
      ]
     },
     "execution_count": 65,
     "metadata": {},
     "output_type": "execute_result"
    }
   ],
   "source": [
    "KnightPos(6, 2).move"
   ]
  },
  {
   "cell_type": "code",
   "execution_count": 66,
   "metadata": {},
   "outputs": [
    {
     "data": {
      "text/plain": [
       "\u001b[36mres65\u001b[39m: \u001b[32mList\u001b[39m[\u001b[32mKnightPos\u001b[39m] = \u001b[33mList\u001b[39m(\u001b[33mKnightPos\u001b[39m(\u001b[32m6\u001b[39m, \u001b[32m2\u001b[39m), \u001b[33mKnightPos\u001b[39m(\u001b[32m7\u001b[39m, \u001b[32m3\u001b[39m))"
      ]
     },
     "execution_count": 66,
     "metadata": {},
     "output_type": "execute_result"
    }
   ],
   "source": [
    "KnightPos(8, 1).move"
   ]
  },
  {
   "cell_type": "code",
   "execution_count": 67,
   "metadata": {},
   "outputs": [
    {
     "data": {
      "text/plain": [
       "defined \u001b[32mclass\u001b[39m \u001b[36mKnightPos\u001b[39m"
      ]
     },
     "execution_count": 67,
     "metadata": {},
     "output_type": "execute_result"
    }
   ],
   "source": [
    "case class KnightPos(c: Int, r: Int) {\n",
    "    def move: List[KnightPos] =\n",
    "      for {\n",
    "          KnightPos(c2, r2) <- List(KnightPos(c + 2, r - 1), KnightPos(c + 2, r + 1),\n",
    "                                   KnightPos(c - 2, r - 1), KnightPos(c - 2, r + 1),\n",
    "                                   KnightPos(c + 1, r - 2), KnightPos(c + 1, r + 2),\n",
    "                                   KnightPos(c - 1, r - 2), KnightPos(c - 1, r + 2)) if (\n",
    "          ((1 |-> 8) element c2) && ((1 |-> 8) contains r2))\n",
    "      } yield KnightPos(c2, r2)\n",
    "    def in3: List[KnightPos] =\n",
    "      for {\n",
    "          first <- move\n",
    "          second <- first.move\n",
    "          third <- second.move\n",
    "      } yield third\n",
    "    def canReachIn3(end: KnightPos): Boolean = in3 contains end\n",
    "}"
   ]
  },
  {
   "cell_type": "code",
   "execution_count": 68,
   "metadata": {},
   "outputs": [
    {
     "data": {
      "text/plain": [
       "\u001b[36mres67\u001b[39m: \u001b[32mBoolean\u001b[39m = \u001b[32mtrue\u001b[39m"
      ]
     },
     "execution_count": 68,
     "metadata": {},
     "output_type": "execute_result"
    }
   ],
   "source": [
    "KnightPos(6, 2) canReachIn3 KnightPos(6, 1)"
   ]
  },
  {
   "cell_type": "code",
   "execution_count": 69,
   "metadata": {},
   "outputs": [
    {
     "data": {
      "text/plain": [
       "\u001b[36mres68\u001b[39m: \u001b[32mBoolean\u001b[39m = \u001b[32mfalse\u001b[39m"
      ]
     },
     "execution_count": 69,
     "metadata": {},
     "output_type": "execute_result"
    }
   ],
   "source": [
    "KnightPos(6, 2) canReachIn3 KnightPos(7, 3)"
   ]
  },
  {
   "cell_type": "markdown",
   "metadata": {},
   "source": [
    "### Monad 則\n",
    "#### 左単位元\n",
    "第一のモナド則が言っているのは、 return を使って値をデフォルトの文脈に入れたものを `>>=` を使って関数に食わせた結果は、単にその値にその関数を適用した結果と等しくなりなさい、ということです。"
   ]
  },
  {
   "cell_type": "code",
   "execution_count": 75,
   "metadata": {},
   "outputs": [],
   "source": [
    "(Monad[Option].point(3) >>= { x => (x + 100000).some }) assert_=== (3.some flatMap { x => (x + 100000).some })"
   ]
  },
  {
   "cell_type": "markdown",
   "metadata": {},
   "source": [
    "#### 右単位元\n",
    "モナドの第二法則は、 `>>=` を使ってモナド値を return に食わせた結果は、元のモナド値と不変であると言っています。"
   ]
  },
  {
   "cell_type": "code",
   "execution_count": 71,
   "metadata": {},
   "outputs": [],
   "source": [
    "(\"move on up\".some flatMap {Monad[Option].point(_)}) assert_=== \"move on up\".some"
   ]
  },
  {
   "cell_type": "markdown",
   "metadata": {},
   "source": [
    "#### 結合律\n",
    "最後のモナド則は、 `>>=` を使ったモナド関数適用の連鎖があるときに、どの順序で評価しても結果は同じであるべき、というものです。"
   ]
  },
  {
   "cell_type": "code",
   "execution_count": 76,
   "metadata": {},
   "outputs": [
    {
     "data": {
      "text/plain": [
       "\u001b[36mres75\u001b[39m: \u001b[32mOption\u001b[39m[\u001b[32mPole\u001b[39m] = \u001b[33mSome\u001b[39m(\u001b[33mPole\u001b[39m(\u001b[32m2\u001b[39m, \u001b[32m4\u001b[39m))"
      ]
     },
     "execution_count": 76,
     "metadata": {},
     "output_type": "execute_result"
    }
   ],
   "source": [
    "Monad[Option].point(Pole(0, 0)) >>= {_.landRight(2)} >>= {_.landLeft(2)} >>= {_.landRight(2)}"
   ]
  },
  {
   "cell_type": "code",
   "execution_count": 77,
   "metadata": {},
   "outputs": [
    {
     "data": {
      "text/plain": [
       "\u001b[36mres76\u001b[39m: \u001b[32mOption\u001b[39m[\u001b[32mPole\u001b[39m] = \u001b[33mSome\u001b[39m(\u001b[33mPole\u001b[39m(\u001b[32m2\u001b[39m, \u001b[32m4\u001b[39m))"
      ]
     },
     "execution_count": 77,
     "metadata": {},
     "output_type": "execute_result"
    }
   ],
   "source": [
    "Monad[Option].point(Pole(0, 0)) >>= { x =>\n",
    "  x.landRight(2) >>= { y =>\n",
    "  y.landLeft(2) >>= { z =>\n",
    "  z.landRight(2)\n",
    "}}}"
   ]
  },
  {
   "cell_type": "markdown",
   "metadata": {},
   "source": [
    "Scalaz 7 はモナド則を以下のように表現する\n",
    "\n",
    "```scala\n",
    "trait MonadLaw extends ApplicativeLaw {\n",
    "    def rightIdentity[A](a: F[A])(implicit FA: Equal[F[A]]): Boolean = FA.equal(bind(a)(point(_: A)), a)\n",
    "    def leftIdentity[A, B](a: A, f: A => F[B])(implicit FB: Equal[F[B]]): Boolean = FB.equal(bind(point(a))(f), F(a))\n",
    "    def associativeBind[A, B, C](fa: F[A], f: A => F[B], g: B => F[C])(implicit FC: Equal[F[C]]): Boolean =\n",
    "      FC.equal(bind(bind(fa)(f))(g), bind(fa)((a: A) => bind(f(a))(g)))\n",
    "}\n",
    "```"
   ]
  }
 ],
 "metadata": {
  "kernelspec": {
   "display_name": "Scala",
   "language": "scala",
   "name": "scala"
  },
  "language_info": {
   "codemirror_mode": "text/x-scala",
   "file_extension": ".scala",
   "mimetype": "text/x-scala",
   "name": "scala211",
   "nbconvert_exporter": "script",
   "pygments_lexer": "scala",
   "version": "2.11.11"
  }
 },
 "nbformat": 4,
 "nbformat_minor": 2
}
