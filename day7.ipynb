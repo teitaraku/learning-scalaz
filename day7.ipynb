{
 "cells": [
  {
   "cell_type": "markdown",
   "metadata": {},
   "source": [
    "## 7日目\n",
    "* 昨日は for 構文、 Writer モナド 、関数をモナドとして扱う Readerモナドを見た\n",
    "* 正直まだモナドが何かわかってはいない"
   ]
  },
  {
   "cell_type": "code",
   "execution_count": 1,
   "metadata": {},
   "outputs": [
    {
     "data": {
      "text/plain": [
       "\u001b[32mimport \u001b[39m\u001b[36mscalaz._, Scalaz._\u001b[39m"
      ]
     },
     "execution_count": 1,
     "metadata": {},
     "output_type": "execute_result"
    }
   ],
   "source": [
    "import scalaz._, Scalaz._"
   ]
  },
  {
   "cell_type": "markdown",
   "metadata": {},
   "source": [
    "### Applicative Builder"
   ]
  },
  {
   "cell_type": "code",
   "execution_count": 2,
   "metadata": {},
   "outputs": [
    {
     "data": {
      "text/plain": [
       "\u001b[36mres1\u001b[39m: \u001b[32mOption\u001b[39m[\u001b[32mInt\u001b[39m] = \u001b[33mSome\u001b[39m(\u001b[32m8\u001b[39m)"
      ]
     },
     "execution_count": 2,
     "metadata": {},
     "output_type": "execute_result"
    }
   ],
   "source": [
    "(3.some |@| 5.some) {_ + _}"
   ]
  },
  {
   "cell_type": "code",
   "execution_count": 5,
   "metadata": {},
   "outputs": [
    {
     "data": {
      "text/plain": [
       "\u001b[36mres4\u001b[39m: \u001b[32mOption\u001b[39m[\u001b[32mInt\u001b[39m] = \u001b[33mSome\u001b[39m(\u001b[32m15\u001b[39m)"
      ]
     },
     "execution_count": 5,
     "metadata": {},
     "output_type": "execute_result"
    }
   ],
   "source": [
    "(3.some |@| 5.some) {_ * _}"
   ]
  },
  {
   "cell_type": "code",
   "execution_count": 6,
   "metadata": {},
   "outputs": [
    {
     "data": {
      "text/plain": [
       "\u001b[36mf\u001b[39m: \u001b[32mInt\u001b[39m => \u001b[32mInt\u001b[39m = <function1>"
      ]
     },
     "execution_count": 6,
     "metadata": {},
     "output_type": "execute_result"
    }
   ],
   "source": [
    "val f = ({(_: Int) * 2} |@| {(_:Int) + 10}) {_ + _}"
   ]
  },
  {
   "cell_type": "code",
   "execution_count": 8,
   "metadata": {},
   "outputs": [
    {
     "data": {
      "text/plain": [
       "\u001b[36mres7\u001b[39m: \u001b[32mInt\u001b[39m = \u001b[32m19\u001b[39m"
      ]
     },
     "execution_count": 8,
     "metadata": {},
     "output_type": "execute_result"
    }
   ],
   "source": [
    "f(3)"
   ]
  },
  {
   "cell_type": "markdown",
   "metadata": {},
   "source": [
    "* `|@|` この演算子、別名マコーレーカルキン演算子というらしい。 |@|\n",
    "    - http://akiradeveloper.hatenadiary.com/entry/2015/06/24/093931"
   ]
  },
  {
   "cell_type": "code",
   "execution_count": 9,
   "metadata": {},
   "outputs": [
    {
     "data": {
      "text/plain": [
       "defined \u001b[32mtype\u001b[39m \u001b[36mStack\u001b[39m"
      ]
     },
     "execution_count": 9,
     "metadata": {},
     "output_type": "execute_result"
    }
   ],
   "source": [
    "type Stack = List[Int]"
   ]
  },
  {
   "cell_type": "code",
   "execution_count": 10,
   "metadata": {},
   "outputs": [
    {
     "data": {
      "text/plain": [
       "defined \u001b[32mfunction\u001b[39m \u001b[36mpop\u001b[39m"
      ]
     },
     "execution_count": 10,
     "metadata": {},
     "output_type": "execute_result"
    }
   ],
   "source": [
    "def pop(stack: Stack): (Int, Stack) = stack match {\n",
    "    case x :: xs => (x, xs)\n",
    "}"
   ]
  },
  {
   "cell_type": "code",
   "execution_count": 12,
   "metadata": {},
   "outputs": [
    {
     "data": {
      "text/plain": [
       "\u001b[36mres11\u001b[39m: (\u001b[32mInt\u001b[39m, \u001b[32mStack\u001b[39m) = (\u001b[32m1\u001b[39m, \u001b[33mList\u001b[39m(\u001b[32m2\u001b[39m, \u001b[32m3\u001b[39m))"
      ]
     },
     "execution_count": 12,
     "metadata": {},
     "output_type": "execute_result"
    }
   ],
   "source": [
    "pop(List(1, 2, 3))"
   ]
  },
  {
   "cell_type": "code",
   "execution_count": 13,
   "metadata": {},
   "outputs": [
    {
     "data": {
      "text/plain": [
       "defined \u001b[32mfunction\u001b[39m \u001b[36mpush\u001b[39m"
      ]
     },
     "execution_count": 13,
     "metadata": {},
     "output_type": "execute_result"
    }
   ],
   "source": [
    "def push(a: Int, stack: Stack): (Unit, Stack) = ((), a :: stack)"
   ]
  },
  {
   "cell_type": "code",
   "execution_count": 14,
   "metadata": {},
   "outputs": [
    {
     "data": {
      "text/plain": [
       "\u001b[36mres13\u001b[39m: (\u001b[32mUnit\u001b[39m, \u001b[32mStack\u001b[39m) = (\u001b[32m()\u001b[39m, \u001b[33mList\u001b[39m(\u001b[32m1\u001b[39m, \u001b[32m3\u001b[39m, \u001b[32m4\u001b[39m))"
      ]
     },
     "execution_count": 14,
     "metadata": {},
     "output_type": "execute_result"
    }
   ],
   "source": [
    "push(1, List(3,4))"
   ]
  },
  {
   "cell_type": "code",
   "execution_count": 15,
   "metadata": {},
   "outputs": [
    {
     "data": {
      "text/plain": [
       "defined \u001b[32mfunction\u001b[39m \u001b[36mstackManip\u001b[39m"
      ]
     },
     "execution_count": 15,
     "metadata": {},
     "output_type": "execute_result"
    }
   ],
   "source": [
    "def stackManip(stack: Stack): (Int, Stack) = {\n",
    "    val (_, newStack1) = push(3, stack)\n",
    "    val (a, newStack2) = pop(newStack1)\n",
    "    pop(newStack2)\n",
    "}"
   ]
  },
  {
   "cell_type": "code",
   "execution_count": 16,
   "metadata": {},
   "outputs": [
    {
     "data": {
      "text/plain": [
       "\u001b[36mres15\u001b[39m: (\u001b[32mInt\u001b[39m, \u001b[32mStack\u001b[39m) = (\u001b[32m5\u001b[39m, \u001b[33mList\u001b[39m(\u001b[32m8\u001b[39m, \u001b[32m2\u001b[39m, \u001b[32m1\u001b[39m))"
      ]
     },
     "execution_count": 16,
     "metadata": {},
     "output_type": "execute_result"
    }
   ],
   "source": [
    "stackManip(List(5, 8, 2, 1))"
   ]
  },
  {
   "cell_type": "markdown",
   "metadata": {},
   "source": [
    "* これは State モナドの例なの？"
   ]
  },
  {
   "cell_type": "markdown",
   "metadata": {},
   "source": [
    "### State and StateT\n",
    "* 状態付きの計算とは、ある状態をとって、更新された状態と一緒に計算結果を返す関数として表現できる\n",
    "\n",
    "```scala\n",
    "s -> (a, s)\n",
    "```"
   ]
  },
  {
   "cell_type": "markdown",
   "metadata": {},
   "source": [
    "* なるほど、さっきのStackは確かに値とStack(状態)とを返していた"
   ]
  },
  {
   "cell_type": "markdown",
   "metadata": {},
   "source": [
    "```scala\n",
    "type State[S, +A] = StateT[Id, S, A]\n",
    "\n",
    "object State extends StateFuncitons {\n",
    "    def apply[S, A](f: S => (S, A)): State[S, A] = new StateT[Id, S, A] {\n",
    "        def apply(s: S) = f(s)\n",
    "    }\n",
    "}\n",
    "```"
   ]
  },
  {
   "cell_type": "markdown",
   "metadata": {},
   "source": [
    "```scala\n",
    "trait StateT[F[+_], s, +A] { self =>\n",
    "    def apply(initial: S): F[(S, A)]\n",
    "    def run(initial: S): F[(S, A)] = apply(initial)\n",
    "    def runZero(implicit S Monoid[S]): F[(S, A)] = \n",
    "    run(S.zero)\n",
    "}\n",
    "```"
   ]
  },
  {
   "cell_type": "code",
   "execution_count": 17,
   "metadata": {},
   "outputs": [
    {
     "data": {
      "text/plain": [
       "\u001b[36mres16\u001b[39m: \u001b[32mState\u001b[39m[\u001b[32mList\u001b[39m[\u001b[32mInt\u001b[39m], \u001b[32mInt\u001b[39m] = scalaz.IndexedStateT$$anon$10@403d3c2b"
      ]
     },
     "execution_count": 17,
     "metadata": {},
     "output_type": "execute_result"
    }
   ],
   "source": [
    "State[List[Int], Int] { case x :: xs => (xs, x) }"
   ]
  },
  {
   "cell_type": "code",
   "execution_count": 20,
   "metadata": {},
   "outputs": [
    {
     "data": {
      "text/plain": [
       "defined \u001b[32mtype\u001b[39m \u001b[36mStack\u001b[39m\n",
       "\u001b[36mpop\u001b[39m: \u001b[32mState\u001b[39m[\u001b[32mStack\u001b[39m, \u001b[32mInt\u001b[39m] = scalaz.IndexedStateT$$anon$10@6682abb8\n",
       "defined \u001b[32mfunction\u001b[39m \u001b[36mpush\u001b[39m\n",
       "defined \u001b[32mfunction\u001b[39m \u001b[36mstackManip\u001b[39m"
      ]
     },
     "execution_count": 20,
     "metadata": {},
     "output_type": "execute_result"
    }
   ],
   "source": [
    "type Stack = List[Int]\n",
    "val pop = State[Stack, Int] {\n",
    "    case x :: xs => (xs, x)\n",
    "}\n",
    "def push(a: Int) = State[Stack, Unit] {\n",
    "    case xs => (a :: xs, ())\n",
    "}\n",
    "def stackManip: State[Stack, Int] = for {\n",
    "    _ <- push(3)\n",
    "    a <- pop\n",
    "    b <- pop\n",
    "} yield(b)"
   ]
  },
  {
   "cell_type": "code",
   "execution_count": 21,
   "metadata": {},
   "outputs": [
    {
     "data": {
      "text/plain": [
       "\u001b[36mres20\u001b[39m: (\u001b[32mStack\u001b[39m, \u001b[32mInt\u001b[39m) = (\u001b[33mList\u001b[39m(\u001b[32m8\u001b[39m, \u001b[32m2\u001b[39m, \u001b[32m1\u001b[39m), \u001b[32m5\u001b[39m)"
      ]
     },
     "execution_count": 21,
     "metadata": {},
     "output_type": "execute_result"
    }
   ],
   "source": [
    "stackManip(List(5, 8, 2, 1))"
   ]
  },
  {
   "cell_type": "markdown",
   "metadata": {},
   "source": [
    "* これ見ると for 構文の有用さがわかるかも"
   ]
  },
  {
   "cell_type": "code",
   "execution_count": 21,
   "metadata": {},
   "outputs": [
    {
     "ename": "",
     "evalue": "",
     "execution_count": 21,
     "output_type": "error",
     "status": "error",
     "traceback": [
      "SyntaxError: found \"(5, 8, 2, 1), Unit].\", expected \",\" | \"]\" at index 14",
      "new State[List(5, 8, 2, 1), Unit].",
      "              ^"
     ]
    }
   ],
   "source": [
    "new State[List(5, 8, 2, 1), Unit].push(3).pop().pop()"
   ]
  },
  {
   "cell_type": "markdown",
   "metadata": {},
   "source": [
    "### 状態の取得と設定\n",
    "* Control.Monad.State モジュールは、２つの便利な関数 get と push を備えた、MonadState という型クラスを提供している"
   ]
  },
  {
   "cell_type": "markdown",
   "metadata": {},
   "source": [
    "* State object は `StateFunctions trait` を継承して、いくつかのヘルパー関数を定義する\n",
    "\n",
    "```scala\n",
    "trait StateFunction {\n",
    "    def constantState[S, A](a: A, s: => S): State[S, A] =\n",
    "        State((_: S) => (s, a))\n",
    "    def State[S, A](a: A): State[S, A] =\n",
    "        State((_: S, a))\n",
    "    def init[S]: State[S, S] = State(s => (s, s))\n",
    "    def get[S]: State[S, S] = init\n",
    "    def gets[S, T](f: S => T): State[S, T] = State(s => (s, f(s)))\n",
    "    def put[S](s: S): State[S, Unit] = State(_ => (s, ()))\n",
    "    def modify[S](f: S => S): State[S, Unit] = State(s => {\n",
    "        val r = f(s);\n",
    "        (r, ())\n",
    "    })\n",
    "    \n",
    "    def delta[A](a: A)(implicit A: Group[A]): State[A, A] = State {\n",
    "        (prevA) =>\n",
    "            val diff = A.minus(a, prevA)\n",
    "            (diff, a)\n",
    "    }\n",
    "}\n",
    "```"
   ]
  },
  {
   "cell_type": "code",
   "execution_count": 22,
   "metadata": {},
   "outputs": [
    {
     "data": {
      "text/plain": [
       "defined \u001b[32mfunction\u001b[39m \u001b[36minit\u001b[39m\n",
       "defined \u001b[32mfunction\u001b[39m \u001b[36mget\u001b[39m"
      ]
     },
     "execution_count": 22,
     "metadata": {},
     "output_type": "execute_result"
    }
   ],
   "source": [
    "def init[S]: State[S, S] = State(s => (s, s))\n",
    "def get[S]: State[S, S] = init"
   ]
  },
  {
   "cell_type": "code",
   "execution_count": 23,
   "metadata": {},
   "outputs": [
    {
     "data": {
      "text/plain": [
       "defined \u001b[32mfunction\u001b[39m \u001b[36mput\u001b[39m"
      ]
     },
     "execution_count": 23,
     "metadata": {},
     "output_type": "execute_result"
    }
   ],
   "source": [
    "def put[S](s: S): State[S, Unit] = State(_ => (s, ()))"
   ]
  },
  {
   "cell_type": "code",
   "execution_count": 24,
   "metadata": {},
   "outputs": [
    {
     "data": {
      "text/plain": [
       "defined \u001b[32mfunction\u001b[39m \u001b[36mstackyStack\u001b[39m"
      ]
     },
     "execution_count": 24,
     "metadata": {},
     "output_type": "execute_result"
    }
   ],
   "source": [
    "def stackyStack: State[Stack, Unit] = for {\n",
    "    stackNow <- get\n",
    "    r <- if (stackNow === List(1, 2, 3)) put(List(8, 3, 1))\n",
    "        else put(List(9, 2, 1))\n",
    "} yield r"
   ]
  },
  {
   "cell_type": "code",
   "execution_count": 25,
   "metadata": {},
   "outputs": [
    {
     "data": {
      "text/plain": [
       "\u001b[36mres24\u001b[39m: (\u001b[32mStack\u001b[39m, \u001b[32mUnit\u001b[39m) = (\u001b[33mList\u001b[39m(\u001b[32m8\u001b[39m, \u001b[32m3\u001b[39m, \u001b[32m1\u001b[39m), \u001b[32m()\u001b[39m)"
      ]
     },
     "execution_count": 25,
     "metadata": {},
     "output_type": "execute_result"
    }
   ],
   "source": [
    "stackyStack(List(1, 2, 3))"
   ]
  },
  {
   "cell_type": "code",
   "execution_count": 26,
   "metadata": {},
   "outputs": [
    {
     "data": {
      "text/plain": [
       "\u001b[36mpop\u001b[39m: \u001b[32mState\u001b[39m[\u001b[32mStack\u001b[39m, \u001b[32mInt\u001b[39m] = scalaz.IndexedStateT$$anon$11@39f043e7"
      ]
     },
     "execution_count": 26,
     "metadata": {},
     "output_type": "execute_result"
    }
   ],
   "source": [
    "val pop: State[Stack, Int] = for {\n",
    "    s <- get[Stack]\n",
    "    val (x :: xs) = s\n",
    "    _ <- put(xs)\n",
    "} yield x"
   ]
  },
  {
   "cell_type": "code",
   "execution_count": 27,
   "metadata": {},
   "outputs": [
    {
     "data": {
      "text/plain": [
       "defined \u001b[32mfunction\u001b[39m \u001b[36mpush\u001b[39m"
      ]
     },
     "execution_count": 27,
     "metadata": {},
     "output_type": "execute_result"
    }
   ],
   "source": [
    "def push(x: Int): State[Stack, Unit] = for {\n",
    "    xs <- get[Stack]\n",
    "    r <- put(x :: xs)\n",
    "} yield r"
   ]
  },
  {
   "cell_type": "markdown",
   "metadata": {},
   "source": [
    "### \\/\n",
    "* Eigher e a 型も失敗の文脈を与えるモナド\n",
    "* しかも、失敗に値を付加できるので、何が失敗したかを説明したり、そのほか失敗にまつわる有用な情報を提供できる"
   ]
  },
  {
   "cell_type": "markdown",
   "metadata": {},
   "source": [
    "```scala\n",
    "sealed trait \\/[+A, +B] {\n",
    "    ...\n",
    "    def isLeft: Boolean =\n",
    "      this match {\n",
    "          case -\\/(_) => true\n",
    "          case \\/-(_) => false\n",
    "      }\n",
    "    \n",
    "    def isRight: Boolean =\n",
    "      this match {\n",
    "          case -\\/(_) => false\n",
    "          case \\/-(_) => true\n",
    "      }\n",
    "    ...\n",
    "    def swap: (B \\/ A) =\n",
    "      this match {\n",
    "          case -\\/(a) => \\/-(a)\n",
    "          case \\/-(b) => -\\/(b)\n",
    "      }\n",
    "    \n",
    "    def unary_~ : (B \\/ A) = swap\n",
    "    ...\n",
    "    def getOrElse[BB >: B](x: => BB): BB =\n",
    "      toOption getOrElse x\n",
    "    \n",
    "    def |[BB >: B](x: => BB): BB = getOrElse(x)\n",
    "    \n",
    "    def orElse[AA >: A, BB >: B](x: => AA \\/ BB): AA \\/ BB =\n",
    "      this match {\n",
    "          case -\\/(_) => x\n",
    "          case \\/-(_) => this\n",
    "      }\n",
    "    \n",
    "    def |||[AA >: A, BB >: B](x: => AA \\/ BB): AA \\/ BB = orElse(x)\n",
    "    ...\n",
    "}\n",
    "\n",
    "private case class -\\/[+A](a: A) extends (A \\/ Nothing)\n",
    "private case class \\/-[+B](b: B) extends (Nothing \\/ B)\n",
    "```"
   ]
  },
  {
   "cell_type": "code",
   "execution_count": 28,
   "metadata": {},
   "outputs": [
    {
     "data": {
      "text/plain": [
       "\u001b[36mres27\u001b[39m: \u001b[32mString\u001b[39m \u001b[32m\\/\u001b[39m \u001b[32mInt\u001b[39m = \u001b[33m\\/-\u001b[39m(\u001b[32m1\u001b[39m)"
      ]
     },
     "execution_count": 28,
     "metadata": {},
     "output_type": "execute_result"
    }
   ],
   "source": [
    "1.right[String]"
   ]
  },
  {
   "cell_type": "code",
   "execution_count": 29,
   "metadata": {},
   "outputs": [
    {
     "data": {
      "text/plain": [
       "\u001b[36mres28\u001b[39m: \u001b[32mString\u001b[39m \u001b[32m\\/\u001b[39m \u001b[32mInt\u001b[39m = \u001b[33m-\\/\u001b[39m(\u001b[32m\"error\"\u001b[39m)"
      ]
     },
     "execution_count": 29,
     "metadata": {},
     "output_type": "execute_result"
    }
   ],
   "source": [
    "\"error\".left[Int]"
   ]
  },
  {
   "cell_type": "code",
   "execution_count": 29,
   "metadata": {},
   "outputs": [
    {
     "name": "stderr",
     "output_type": "stream",
     "text": [
      "cmd29.sc:1: value flatMap is not a member of scala.util.Left[String,Int]\n",
      "val res29 = Left[String, Int](\"boom\") flatMap { x => Right[String, Int](x + 1) }\n",
      "                                      ^"
     ]
    },
    {
     "ename": "",
     "evalue": "",
     "execution_count": 29,
     "output_type": "error",
     "status": "error",
     "traceback": [
      "Compilation Failed"
     ]
    }
   ],
   "source": [
    "Left[String, Int](\"boom\") flatMap { x => Right[String, Int](x + 1) }"
   ]
  },
  {
   "cell_type": "code",
   "execution_count": 30,
   "metadata": {},
   "outputs": [
    {
     "data": {
      "text/plain": [
       "\u001b[36mres29\u001b[39m: \u001b[32mEither\u001b[39m[\u001b[32mString\u001b[39m, \u001b[32mInt\u001b[39m] = \u001b[33mLeft\u001b[39m(\u001b[32m\"boom\"\u001b[39m)"
      ]
     },
     "execution_count": 30,
     "metadata": {},
     "output_type": "execute_result"
    }
   ],
   "source": [
    "Left[String, Int](\"boom\").right flatMap { x => Right[String, Int](x + 1) }"
   ]
  },
  {
   "cell_type": "code",
   "execution_count": 31,
   "metadata": {},
   "outputs": [
    {
     "data": {
      "text/plain": [
       "\u001b[36mres30\u001b[39m: \u001b[32mString\u001b[39m \u001b[32m\\/\u001b[39m \u001b[32mInt\u001b[39m = \u001b[33m-\\/\u001b[39m(\u001b[32m\"boom\"\u001b[39m)"
      ]
     },
     "execution_count": 31,
     "metadata": {},
     "output_type": "execute_result"
    }
   ],
   "source": [
    "\"boom\".left[Int] >>= { x => (x + 1).right }"
   ]
  },
  {
   "cell_type": "code",
   "execution_count": 32,
   "metadata": {},
   "outputs": [
    {
     "data": {
      "text/plain": [
       "\u001b[36mres31\u001b[39m: \u001b[32mString\u001b[39m \u001b[32m\\/\u001b[39m \u001b[32mString\u001b[39m = \u001b[33m-\\/\u001b[39m(\u001b[32m\"event 2 failed!\"\u001b[39m)"
      ]
     },
     "execution_count": 32,
     "metadata": {},
     "output_type": "execute_result"
    }
   ],
   "source": [
    "for {\n",
    "    e1 <- \"event 1 ok\".right\n",
    "    e2 <- \"event 2 failed!\".left[String]\n",
    "    e3 <- \"event 3 failed!\".left[String]\n",
    "} yield (e1 |+| e2 |+| e3)"
   ]
  },
  {
   "cell_type": "code",
   "execution_count": 33,
   "metadata": {},
   "outputs": [
    {
     "data": {
      "text/plain": [
       "\u001b[36mres32\u001b[39m: \u001b[32mBoolean\u001b[39m = \u001b[32mtrue\u001b[39m"
      ]
     },
     "execution_count": 33,
     "metadata": {},
     "output_type": "execute_result"
    }
   ],
   "source": [
    "\"event 1 ok\".right.isRight"
   ]
  },
  {
   "cell_type": "code",
   "execution_count": 34,
   "metadata": {},
   "outputs": [
    {
     "data": {
      "text/plain": [
       "\u001b[36mres33\u001b[39m: \u001b[32mBoolean\u001b[39m = \u001b[32mfalse\u001b[39m"
      ]
     },
     "execution_count": 34,
     "metadata": {},
     "output_type": "execute_result"
    }
   ],
   "source": [
    "\"event 1 ok\".right.isLeft"
   ]
  },
  {
   "cell_type": "code",
   "execution_count": 35,
   "metadata": {},
   "outputs": [
    {
     "data": {
      "text/plain": [
       "\u001b[36mres34\u001b[39m: \u001b[32mString\u001b[39m = \u001b[32m\"event 1 ok\"\u001b[39m"
      ]
     },
     "execution_count": 35,
     "metadata": {},
     "output_type": "execute_result"
    }
   ],
   "source": [
    "\"event 1 ok\".right | \"something bad\""
   ]
  },
  {
   "cell_type": "code",
   "execution_count": 36,
   "metadata": {},
   "outputs": [
    {
     "data": {
      "text/plain": [
       "\u001b[36mres35\u001b[39m: \u001b[32mString\u001b[39m = \u001b[32m\"event 2 failed!\"\u001b[39m"
      ]
     },
     "execution_count": 36,
     "metadata": {},
     "output_type": "execute_result"
    }
   ],
   "source": [
    "~\"event 2 failed!\".left[String] | \"something good\""
   ]
  },
  {
   "cell_type": "code",
   "execution_count": 37,
   "metadata": {},
   "outputs": [
    {
     "data": {
      "text/plain": [
       "\u001b[36mres36\u001b[39m: \u001b[32mNothing\u001b[39m \u001b[32m\\/\u001b[39m \u001b[32mString\u001b[39m = \u001b[33m\\/-\u001b[39m(\u001b[32m\"event 1 ok!\"\u001b[39m)"
      ]
     },
     "execution_count": 37,
     "metadata": {},
     "output_type": "execute_result"
    }
   ],
   "source": [
    "\"event 1 ok\".right map {_ + \"!\"}"
   ]
  },
  {
   "cell_type": "markdown",
   "metadata": {},
   "source": [
    "* 左側で連鎖させるには、 => AA \\/ BB (ただし [AA >: A, BB >: B]) を受け取る orElse がある\n",
    "* orElse のシンボルを使ったエイリアスは |||"
   ]
  },
  {
   "cell_type": "code",
   "execution_count": 38,
   "metadata": {},
   "outputs": [
    {
     "data": {
      "text/plain": [
       "\u001b[36mres37\u001b[39m: \u001b[32mNothing\u001b[39m \u001b[32m\\/\u001b[39m \u001b[32mString\u001b[39m = \u001b[33m\\/-\u001b[39m(\u001b[32m\"retry event 1 ok\"\u001b[39m)"
      ]
     },
     "execution_count": 38,
     "metadata": {},
     "output_type": "execute_result"
    }
   ],
   "source": [
    "\"event 1 failed!\".left ||| \"retry event 1 ok\".right"
   ]
  },
  {
   "cell_type": "markdown",
   "metadata": {},
   "source": [
    "### Validation\n",
    "\n",
    "```scala\n",
    "sealed trait Validation[+E, +A] {\n",
    "    def isSuccess: Boolean = this match {\n",
    "        case Success(_) => true\n",
    "        case Failure(_) => false\n",
    "    }\n",
    "    \n",
    "    def isFailure: Boolean = !isSuccess\n",
    "    \n",
    "    ...\n",
    "}\n",
    "\n",
    "final case class Success[E, A](a: A) extends Valication[E, A]\n",
    "final case class Failure[E, A](e: E) extends Validation[E, A]\n",
    "```"
   ]
  },
  {
   "cell_type": "code",
   "execution_count": 39,
   "metadata": {},
   "outputs": [
    {
     "data": {
      "text/plain": [
       "\u001b[36mres38\u001b[39m: \u001b[32mValidation\u001b[39m[\u001b[32mString\u001b[39m, \u001b[32mString\u001b[39m] = \u001b[33mSuccess\u001b[39m(\u001b[32m\"event 1 ok\"\u001b[39m)"
      ]
     },
     "execution_count": 39,
     "metadata": {},
     "output_type": "execute_result"
    }
   ],
   "source": [
    "\"event 1 ok\".success[String]"
   ]
  },
  {
   "cell_type": "code",
   "execution_count": 40,
   "metadata": {},
   "outputs": [
    {
     "data": {
      "text/plain": [
       "\u001b[36mres39\u001b[39m: \u001b[32mValidation\u001b[39m[\u001b[32mString\u001b[39m, \u001b[32mString\u001b[39m] = \u001b[33mFailure\u001b[39m(\u001b[32m\"event 1 failed!\"\u001b[39m)"
      ]
     },
     "execution_count": 40,
     "metadata": {},
     "output_type": "execute_result"
    }
   ],
   "source": [
    "\"event 1 failed!\".failure[String]"
   ]
  },
  {
   "cell_type": "markdown",
   "metadata": {},
   "source": [
    "* Validation はモナドではなく Applicative functor\n",
    "* 最初のイベントの結果を次へ連鎖するのではなく、全イベントを検証する"
   ]
  },
  {
   "cell_type": "code",
   "execution_count": 41,
   "metadata": {},
   "outputs": [
    {
     "data": {
      "text/plain": [
       "\u001b[36mres40\u001b[39m: \u001b[32mValidation\u001b[39m[\u001b[32mString\u001b[39m, \u001b[32mString\u001b[39m] = \u001b[33mFailure\u001b[39m(\u001b[32m\"event 2 failed!event 3 failed!\"\u001b[39m)"
      ]
     },
     "execution_count": 41,
     "metadata": {},
     "output_type": "execute_result"
    }
   ],
   "source": [
    "(\"event 1 ok\".success[String] |@| \"event 2 failed!\".failure[String] |@| \"event 3 failed!\".failure[String]) {_ + _ + _}"
   ]
  },
  {
   "cell_type": "markdown",
   "metadata": {},
   "source": [
    "* 計算途中でショートさせた \\/ と違って、 Validation は計算を続行して全ての失敗を報告する"
   ]
  },
  {
   "cell_type": "markdown",
   "metadata": {},
   "source": [
    "### NonEmptyList\n",
    "\n",
    "```scala\n",
    "sealed trait NonEmptyList[+A] {\n",
    "  val head: A\n",
    "  val tail: List[A]\n",
    "  def <::[AA >: A](b: AA): NonEmptyList[AA] = nel(b, head :: tail)]\n",
    "  ...\n",
    "}\n",
    "```"
   ]
  },
  {
   "cell_type": "code",
   "execution_count": 42,
   "metadata": {},
   "outputs": [
    {
     "data": {
      "text/plain": [
       "\u001b[36mres41\u001b[39m: \u001b[32mNonEmptyList\u001b[39m[\u001b[32mInt\u001b[39m] = NonEmpty[1]"
      ]
     },
     "execution_count": 42,
     "metadata": {},
     "output_type": "execute_result"
    }
   ],
   "source": [
    "1.wrapNel"
   ]
  },
  {
   "cell_type": "code",
   "execution_count": 43,
   "metadata": {},
   "outputs": [
    {
     "data": {
      "text/plain": [
       "\u001b[36mres42\u001b[39m: \u001b[32mValidationNel\u001b[39m[\u001b[32mString\u001b[39m, \u001b[32mString\u001b[39m] = Success(event 1 ok)"
      ]
     },
     "execution_count": 43,
     "metadata": {},
     "output_type": "execute_result"
    }
   ],
   "source": [
    "\"event 1 ok\".successNel[String]"
   ]
  },
  {
   "cell_type": "code",
   "execution_count": 44,
   "metadata": {},
   "outputs": [
    {
     "data": {
      "text/plain": [
       "\u001b[36mres43\u001b[39m: \u001b[32mValidationNel\u001b[39m[\u001b[32mString\u001b[39m, \u001b[32mString\u001b[39m] = Failure(NonEmpty[event 1 failed!])"
      ]
     },
     "execution_count": 44,
     "metadata": {},
     "output_type": "execute_result"
    }
   ],
   "source": [
    "\"event 1 failed!\".failureNel[String]"
   ]
  },
  {
   "cell_type": "code",
   "execution_count": 45,
   "metadata": {},
   "outputs": [
    {
     "data": {
      "text/plain": [
       "\u001b[36mres44\u001b[39m: \u001b[32mValidation\u001b[39m[\u001b[32mNonEmptyList\u001b[39m[\u001b[32mString\u001b[39m], \u001b[32mString\u001b[39m] = \u001b[33mFailure\u001b[39m(NonEmpty[event 2 failed!,event 3 failed!])"
      ]
     },
     "execution_count": 45,
     "metadata": {},
     "output_type": "execute_result"
    }
   ],
   "source": [
    "(\"event 1 ok\".successNel[String] |@| \"event 2 failed!\".failureNel[String] |@| \"event 3 failed!\".failureNel[String]) {_ + _ + _}"
   ]
  },
  {
   "cell_type": "markdown",
   "metadata": {},
   "source": [
    "* Failure の中に全ての失敗メッセージを集約することができた"
   ]
  }
 ],
 "metadata": {
  "kernelspec": {
   "display_name": "Scala",
   "language": "scala",
   "name": "scala"
  },
  "language_info": {
   "codemirror_mode": "text/x-scala",
   "file_extension": ".scala",
   "mimetype": "text/x-scala",
   "name": "scala211",
   "nbconvert_exporter": "script",
   "pygments_lexer": "scala",
   "version": "2.11.11"
  }
 },
 "nbformat": 4,
 "nbformat_minor": 2
}
