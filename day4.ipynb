{
 "cells": [
  {
   "cell_type": "markdown",
   "metadata": {},
   "source": [
    "## 4日目\n",
    "\n",
    "### Functor則\n",
    "* 第一法則: idでファンクター値を写した場合、ファンクター値が変化してはいけない\n",
    "    - id => 単位元の事だと思う。当然だね"
   ]
  },
  {
   "cell_type": "code",
   "execution_count": 3,
   "metadata": {},
   "outputs": [
    {
     "data": {
      "text/plain": [
       "\u001b[32mimport \u001b[39m\u001b[36mscalaz._, Scalaz._\u001b[39m"
      ]
     },
     "execution_count": 3,
     "metadata": {},
     "output_type": "execute_result"
    }
   ],
   "source": [
    "import scalaz._, Scalaz._"
   ]
  },
  {
   "cell_type": "code",
   "execution_count": 2,
   "metadata": {},
   "outputs": [],
   "source": [
    "List(1, 2, 3) map {identity} assert_=== List(1, 2, 3)"
   ]
  },
  {
   "cell_type": "markdown",
   "metadata": {},
   "source": [
    "* 第二法則: f と g の合成関数でファンクター値を写したものと、まず g, 次に f でファンクター値を写したもの が等しい"
   ]
  },
  {
   "cell_type": "code",
   "execution_count": 3,
   "metadata": {},
   "outputs": [],
   "source": [
    "(List(1, 2, 3) map {{(_: Int) * 3} map {(_: Int) + 1}}) assert_=== (List(1, 2, 3) map {(_: Int) * 3} map {(_: Int) + 1})"
   ]
  },
  {
   "cell_type": "markdown",
   "metadata": {},
   "source": [
    "* 最近はREPLでFunctor則のチェックしてくれるらしい。便利。"
   ]
  },
  {
   "cell_type": "code",
   "execution_count": 6,
   "metadata": {},
   "outputs": [
    {
     "data": {
      "text/plain": [
       "defined \u001b[32mtrait\u001b[39m \u001b[36mCOption\u001b[39m\n",
       "defined \u001b[32mclass\u001b[39m \u001b[36mCSome\u001b[39m\n",
       "defined \u001b[32mobject\u001b[39m \u001b[36mCNone\u001b[39m\n",
       "defined \u001b[32mfunction\u001b[39m \u001b[36mcoptionEqual\u001b[39m\n",
       "\u001b[36mcoptionFunctor\u001b[39m: \u001b[32mAnyRef\u001b[39m with \u001b[32mFunctor\u001b[39m[\u001b[32mCOption\u001b[39m] = $sess.cmd5Wrapper$Helper$$anon$1@4eb48540"
      ]
     },
     "execution_count": 6,
     "metadata": {},
     "output_type": "execute_result"
    }
   ],
   "source": [
    "sealed trait COption[+A] {}\n",
    "case class CSome[A](counter: Int, a: A) extends COption[A]\n",
    "case object CNone extends COption[Nothing]\n",
    "\n",
    "implicit def coptionEqual[A]: Equal[COption[A]] = Equal.equalA\n",
    "implicit val coptionFunctor = new Functor[COption] {\n",
    "    def map[A, B](fa: COption[A])(f: A => B): COption[B] = fa match {\n",
    "        case CNone => CNone\n",
    "        case CSome(c, a) => CSome(c + 1, f(a))\n",
    "    }\n",
    "}"
   ]
  },
  {
   "cell_type": "code",
   "execution_count": 7,
   "metadata": {},
   "outputs": [
    {
     "data": {
      "text/plain": [
       "\u001b[36mres6\u001b[39m: \u001b[32mCOption\u001b[39m[\u001b[32mString\u001b[39m] = CSome(1,hoha)"
      ]
     },
     "execution_count": 7,
     "metadata": {},
     "output_type": "execute_result"
    }
   ],
   "source": [
    "(CSome(0, \"ho\"): COption[String]) map {(_: String) + \"ha\"}"
   ]
  },
  {
   "cell_type": "code",
   "execution_count": 8,
   "metadata": {},
   "outputs": [
    {
     "data": {
      "text/plain": [
       "\u001b[36mres7\u001b[39m: \u001b[32mCOption\u001b[39m[\u001b[32mString\u001b[39m] = CSome(1,ho)"
      ]
     },
     "execution_count": 8,
     "metadata": {},
     "output_type": "execute_result"
    }
   ],
   "source": [
    "(CSome(0, \"ho\"): COption[String]) map {identity}"
   ]
  },
  {
   "cell_type": "markdown",
   "metadata": {},
   "source": [
    "* jupyterでのやり方がわからなかったのでsbt consoleで実行\n",
    "\n",
    "```scala\n",
    "scala> functor.laws[COption].check\n",
    "! functor.invariantFunctor.identity: Falsified after 0 passed tests.\n",
    "> ARG_0: CSome(0,0)\n",
    "! functor.invariantFunctor.composite: Falsified after 0 passed tests.\n",
    "> ARG_0: CSome(0,559927601)\n",
    "> ARG_1: <function1>\n",
    "> ARG_2: <function1>\n",
    "> ARG_3: <function1>\n",
    "> ARG_4: <function1>\n",
    "! functor.identity: Falsified after 0 passed tests.\n",
    "> ARG_0: CSome(0,1)\n",
    "! functor.composite: Falsified after 0 passed tests.\n",
    "> ARG_0: CSome(0,1959572567)\n",
    "> ARG_1: <function1>\n",
    "> ARG_2: <function1>\n",
    "```"
   ]
  },
  {
   "cell_type": "markdown",
   "metadata": {},
   "source": [
    "### Applicative則\n",
    "\n",
    "```scala\n",
    "trait ApplicativeLaw extends FunctorLaw {\n",
    "    def identityAp[A](fa: F[A])(implicit FA: Equal[F[A]]): Boolean =\n",
    "      FA.equal(ap(fa)(point((a: A) => a)), fa)\n",
    "    \n",
    "    def composition[A, B, C](fbc: F[B => C], fab: F[A => B], fa: F[A])(implicit FC: Equal[F[C]]) =\n",
    "      FC.equal(ap(ap(fa)(fab))(fbc), ap(fa)(ap(fab)(ap(fbc)(point((bc: B => C) => (ab: A => B) => bc compose ab)))))\n",
    "    \n",
    "    def homomorphism[A, B](ab: A => B, a: A)(implicit FB: Equal[F[B]]): Boolean =\n",
    "      FB.equal(ap(point(a))(point(ab)), point(ab(a)))\n",
    "    \n",
    "    def interchange[A, B](f: F[A => B], a: A)(implicit FB: Equal[F[B]]): Boolean =\n",
    "      FB.equal(ap(point(a))(f), ap(f)(point((f: A => B) => f(a))))\n",
    "}\n",
    "```"
   ]
  },
  {
   "cell_type": "markdown",
   "metadata": {},
   "source": [
    "* 2引数以上の関数の入ったFunctorと他のFunctorを作用させるためのFunctorの拡張らしい"
   ]
  },
  {
   "cell_type": "markdown",
   "metadata": {},
   "source": [
    "### Semigroup則\n",
    "\n",
    "```scala\n",
    "trait SemigroupLaw {\n",
    "    def associative(f1: F, f2: F, f3: F)(implicit F: Equal[F]): Boolean =\n",
    "      F.equal(append(f1, append(f2, f3)), append(append(f1, f2), f3))\n",
    "}\n",
    "```\n",
    "\n",
    "* 結合律と同じってことかな"
   ]
  },
  {
   "cell_type": "markdown",
   "metadata": {},
   "source": [
    "### Monoid則\n",
    "\n",
    "```scala\n",
    "trait MonoidLaw extends SemigroupLaw {\n",
    "  def leftIdentity(a: F)(implicit F: Equal[F]) = F.equal(a, append(zero, a))\n",
    "  def rightIdentity(a: F)(implicit F: Equal[F]) = F.equal(a, append(a, zero))\n",
    "}\n",
    "```\n",
    "\n",
    "* 単位元を左右のどちらに `|+|` しても同じ値が返ってくるということ"
   ]
  },
  {
   "cell_type": "code",
   "execution_count": 4,
   "metadata": {},
   "outputs": [],
   "source": [
    "1 * 2 assert_=== 2"
   ]
  },
  {
   "cell_type": "code",
   "execution_count": 5,
   "metadata": {},
   "outputs": [],
   "source": [
    "2 * 1 assert_=== 2"
   ]
  },
  {
   "cell_type": "markdown",
   "metadata": {},
   "source": [
    "### Monoid としての Option"
   ]
  },
  {
   "cell_type": "code",
   "execution_count": 6,
   "metadata": {},
   "outputs": [
    {
     "data": {
      "text/plain": [
       "defined \u001b[32mfunction\u001b[39m \u001b[36moptionMonoid\u001b[39m"
      ]
     },
     "execution_count": 6,
     "metadata": {},
     "output_type": "execute_result"
    }
   ],
   "source": [
    "implicit def optionMonoid[A: Semigroup]: Monoid[Option[A]] = new Monoid[Option[A]] {\n",
    "    def append(f1: Option[A], f2: => Option[A]) = (f1, f2) match {\n",
    "        case (Some(a1), Some(a2)) => Some(Semigroup[A].append(a1, a2))\n",
    "        case (Some(a1), None) => f1\n",
    "        case (None, Some(a2)) => f2\n",
    "        case (None, None) => None\n",
    "    }\n",
    "    \n",
    "    def zero: Option[A] = None\n",
    "}"
   ]
  },
  {
   "cell_type": "code",
   "execution_count": 7,
   "metadata": {},
   "outputs": [
    {
     "data": {
      "text/plain": [
       "\u001b[36mres6\u001b[39m: \u001b[32mOption\u001b[39m[\u001b[32mString\u001b[39m] = \u001b[33mSome\u001b[39m(\u001b[32m\"andy\"\u001b[39m)"
      ]
     },
     "execution_count": 7,
     "metadata": {},
     "output_type": "execute_result"
    }
   ],
   "source": [
    "(none: Option[String]) |+| \"andy\".some"
   ]
  },
  {
   "cell_type": "code",
   "execution_count": 8,
   "metadata": {},
   "outputs": [
    {
     "data": {
      "text/plain": [
       "\u001b[36mres7\u001b[39m: \u001b[32mOption\u001b[39m[\u001b[32mOrdering\u001b[39m] = \u001b[33mSome\u001b[39m(LT)"
      ]
     },
     "execution_count": 8,
     "metadata": {},
     "output_type": "execute_result"
    }
   ],
   "source": [
    "(Ordering.LT: Ordering).some |+| none"
   ]
  },
  {
   "cell_type": "code",
   "execution_count": 9,
   "metadata": {},
   "outputs": [
    {
     "data": {
      "text/plain": [
       "\u001b[36mres8\u001b[39m: \u001b[32mOption\u001b[39m[\u001b[32mChar\u001b[39m] \u001b[32m@@\u001b[39m \u001b[32mTags\u001b[39m.\u001b[32mFirst\u001b[39m = Some(a)"
      ]
     },
     "execution_count": 9,
     "metadata": {},
     "output_type": "execute_result"
    }
   ],
   "source": [
    "Tags.First('a'.some) |+| Tags.First('b'.some)"
   ]
  },
  {
   "cell_type": "code",
   "execution_count": 10,
   "metadata": {},
   "outputs": [
    {
     "data": {
      "text/plain": [
       "\u001b[36mres9\u001b[39m: \u001b[32mOption\u001b[39m[\u001b[32mChar\u001b[39m] \u001b[32m@@\u001b[39m \u001b[32mTags\u001b[39m.\u001b[32mFirst\u001b[39m = Some(b)"
      ]
     },
     "execution_count": 10,
     "metadata": {},
     "output_type": "execute_result"
    }
   ],
   "source": [
    "Tags.First(none:Option[Char]) |+| Tags.First('b'.some)"
   ]
  },
  {
   "cell_type": "code",
   "execution_count": 11,
   "metadata": {},
   "outputs": [
    {
     "data": {
      "text/plain": [
       "\u001b[36mres10\u001b[39m: \u001b[32mOption\u001b[39m[\u001b[32mChar\u001b[39m] \u001b[32m@@\u001b[39m \u001b[32mTags\u001b[39m.\u001b[32mFirst\u001b[39m = Some(a)"
      ]
     },
     "execution_count": 11,
     "metadata": {},
     "output_type": "execute_result"
    }
   ],
   "source": [
    "Tags.First('a'.some) |+| Tags.First(none: Option[Char])"
   ]
  },
  {
   "cell_type": "code",
   "execution_count": 12,
   "metadata": {},
   "outputs": [
    {
     "data": {
      "text/plain": [
       "\u001b[36mres11\u001b[39m: \u001b[32mOption\u001b[39m[\u001b[32mChar\u001b[39m] \u001b[32m@@\u001b[39m \u001b[32mTags\u001b[39m.\u001b[32mLast\u001b[39m = Some(b)"
      ]
     },
     "execution_count": 12,
     "metadata": {},
     "output_type": "execute_result"
    }
   ],
   "source": [
    "Tags.Last('a'.some) |+| Tags.Last('b'.some)"
   ]
  },
  {
   "cell_type": "code",
   "execution_count": 13,
   "metadata": {},
   "outputs": [
    {
     "data": {
      "text/plain": [
       "\u001b[36mres12\u001b[39m: \u001b[32mOption\u001b[39m[\u001b[32mChar\u001b[39m] \u001b[32m@@\u001b[39m \u001b[32mTags\u001b[39m.\u001b[32mLast\u001b[39m = Some(b)"
      ]
     },
     "execution_count": 13,
     "metadata": {},
     "output_type": "execute_result"
    }
   ],
   "source": [
    "Tags.Last(none: Option[Char]) |+| Tags.Last('b'.some)"
   ]
  },
  {
   "cell_type": "code",
   "execution_count": 14,
   "metadata": {},
   "outputs": [
    {
     "data": {
      "text/plain": [
       "\u001b[36mres13\u001b[39m: \u001b[32mOption\u001b[39m[\u001b[32mChar\u001b[39m] \u001b[32m@@\u001b[39m \u001b[32mTags\u001b[39m.\u001b[32mLast\u001b[39m = Some(a)"
      ]
     },
     "execution_count": 14,
     "metadata": {},
     "output_type": "execute_result"
    }
   ],
   "source": [
    "Tags.Last('a'.some) |+| Tags.Last(none: Option[Char])"
   ]
  },
  {
   "cell_type": "markdown",
   "metadata": {},
   "source": [
    "### Foldable\n",
    "* 畳み込み!!"
   ]
  },
  {
   "cell_type": "code",
   "execution_count": 15,
   "metadata": {},
   "outputs": [
    {
     "data": {
      "text/plain": [
       "\u001b[36mres14\u001b[39m: \u001b[32mInt\u001b[39m = \u001b[32m6\u001b[39m"
      ]
     },
     "execution_count": 15,
     "metadata": {},
     "output_type": "execute_result"
    }
   ],
   "source": [
    "List(1, 2, 3).foldRight (1) {_ * _}"
   ]
  },
  {
   "cell_type": "code",
   "execution_count": 16,
   "metadata": {},
   "outputs": [
    {
     "data": {
      "text/plain": [
       "\u001b[36mres15\u001b[39m: \u001b[32mInt\u001b[39m = \u001b[32m11\u001b[39m"
      ]
     },
     "execution_count": 16,
     "metadata": {},
     "output_type": "execute_result"
    }
   ],
   "source": [
    "9.some.foldLeft(2) {_ + _}"
   ]
  },
  {
   "cell_type": "code",
   "execution_count": 17,
   "metadata": {},
   "outputs": [
    {
     "data": {
      "text/plain": [
       "\u001b[36mres16\u001b[39m: \u001b[32mInt\u001b[39m = \u001b[32m6\u001b[39m"
      ]
     },
     "execution_count": 17,
     "metadata": {},
     "output_type": "execute_result"
    }
   ],
   "source": [
    "List(1, 2, 3) foldMap {identity}"
   ]
  },
  {
   "cell_type": "code",
   "execution_count": 18,
   "metadata": {},
   "outputs": [
    {
     "data": {
      "text/plain": [
       "\u001b[36mres17\u001b[39m: \u001b[32mBoolean\u001b[39m \u001b[32m@@\u001b[39m \u001b[32mTags\u001b[39m.\u001b[32mDisjunction\u001b[39m = true"
      ]
     },
     "execution_count": 18,
     "metadata": {},
     "output_type": "execute_result"
    }
   ],
   "source": [
    "List(true, false, true, true) foldMap {Tags.Disjunction.apply}"
   ]
  }
 ],
 "metadata": {
  "kernelspec": {
   "display_name": "Scala",
   "language": "scala",
   "name": "scala"
  },
  "language_info": {
   "codemirror_mode": "text/x-scala",
   "file_extension": ".scala",
   "mimetype": "text/x-scala",
   "name": "scala211",
   "nbconvert_exporter": "script",
   "pygments_lexer": "scala",
   "version": "2.11.11"
  }
 },
 "nbformat": 4,
 "nbformat_minor": 2
}
