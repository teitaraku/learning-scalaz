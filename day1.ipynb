{
 "cells": [
  {
   "cell_type": "markdown",
   "metadata": {},
   "source": [
    "## 1日目\n",
    "型クラス初級講座"
   ]
  },
  {
   "cell_type": "markdown",
   "metadata": {},
   "source": [
    "### Equal"
   ]
  },
  {
   "cell_type": "code",
   "execution_count": 2,
   "metadata": {},
   "outputs": [
    {
     "data": {
      "text/plain": [
       "\u001b[32mimport \u001b[39m\u001b[36mscalaz._, Scalaz._\u001b[39m"
      ]
     },
     "execution_count": 2,
     "metadata": {},
     "output_type": "execute_result"
    }
   ],
   "source": [
    "import scalaz._, Scalaz._"
   ]
  },
  {
   "cell_type": "code",
   "execution_count": 3,
   "metadata": {},
   "outputs": [
    {
     "data": {
      "text/plain": [
       "\u001b[36mres2\u001b[39m: \u001b[32mBoolean\u001b[39m = \u001b[32mtrue\u001b[39m"
      ]
     },
     "execution_count": 3,
     "metadata": {},
     "output_type": "execute_result"
    }
   ],
   "source": [
    "1 === 1"
   ]
  },
  {
   "cell_type": "code",
   "execution_count": 3,
   "metadata": {},
   "outputs": [
    {
     "name": "stderr",
     "output_type": "stream",
     "text": [
      "cmd3.sc:1: type mismatch;\n",
      " found   : String(\"foo\")\n",
      " required: Int\n",
      "val res3 = 1 === \"foo\"\n",
      "                 ^"
     ]
    },
    {
     "ename": "",
     "evalue": "",
     "execution_count": 3,
     "output_type": "error",
     "status": "error",
     "traceback": [
      "Compilation Failed"
     ]
    }
   ],
   "source": [
    "1 === \"foo\""
   ]
  },
  {
   "cell_type": "code",
   "execution_count": 4,
   "metadata": {},
   "outputs": [
    {
     "data": {
      "text/plain": [
       "\u001b[36mres3\u001b[39m: \u001b[32mBoolean\u001b[39m = \u001b[32mfalse\u001b[39m"
      ]
     },
     "execution_count": 4,
     "metadata": {},
     "output_type": "execute_result"
    }
   ],
   "source": [
    "1 == \"foo\""
   ]
  },
  {
   "cell_type": "code",
   "execution_count": 5,
   "metadata": {},
   "outputs": [
    {
     "data": {
      "text/plain": [
       "\u001b[36mres4\u001b[39m: \u001b[32mBoolean\u001b[39m = \u001b[32mtrue\u001b[39m"
      ]
     },
     "execution_count": 5,
     "metadata": {},
     "output_type": "execute_result"
    }
   ],
   "source": [
    "1.some =/= 2.some"
   ]
  },
  {
   "cell_type": "code",
   "execution_count": 6,
   "metadata": {},
   "outputs": [
    {
     "ename": "",
     "evalue": "",
     "execution_count": 6,
     "output_type": "error",
     "status": "error",
     "traceback": [
      "\u001b[31mjava.lang.RuntimeException: 1 ≠ 2\u001b[39m",
      "  scala.sys.package$.error(\u001b[32mpackage.scala\u001b[39m:\u001b[32m27\u001b[39m)",
      "  scalaz.syntax.EqualOps.assert_$eq$eq$eq(\u001b[32mEqualSyntax.scala\u001b[39m:\u001b[32m16\u001b[39m)",
      "  $sess.cmd5Wrapper$Helper.<init>(\u001b[32mcmd5.sc\u001b[39m:\u001b[32m1\u001b[39m)",
      "  $sess.cmd5Wrapper.<init>(\u001b[32mcmd5.sc\u001b[39m:\u001b[32m1177\u001b[39m)",
      "  $sess.cmd5$.<init>(\u001b[32mcmd5.sc\u001b[39m:\u001b[32m1147\u001b[39m)",
      "  $sess.cmd5$.<clinit>(\u001b[32mcmd5.sc\u001b[39m:\u001b[32m-1\u001b[39m)"
     ]
    }
   ],
   "source": [
    "1 assert_=== 2"
   ]
  },
  {
   "cell_type": "code",
   "execution_count": 7,
   "metadata": {},
   "outputs": [
    {
     "data": {
      "text/plain": [
       "\u001b[36mres6\u001b[39m: \u001b[32mBoolean\u001b[39m = \u001b[32mfalse\u001b[39m"
      ]
     },
     "execution_count": 7,
     "metadata": {},
     "output_type": "execute_result"
    }
   ],
   "source": [
    "1 != 2 && false"
   ]
  },
  {
   "cell_type": "code",
   "execution_count": 7,
   "metadata": {},
   "outputs": [
    {
     "name": "stderr",
     "output_type": "stream",
     "text": [
      "cmd7.sc:1: value && is not a member of Int\n",
      "val res7 = 1 /== 2 && false\n",
      "                   ^"
     ]
    },
    {
     "ename": "",
     "evalue": "",
     "execution_count": 7,
     "output_type": "error",
     "status": "error",
     "traceback": [
      "Compilation Failed"
     ]
    }
   ],
   "source": [
    "1 /== 2 && false"
   ]
  },
  {
   "cell_type": "code",
   "execution_count": 8,
   "metadata": {},
   "outputs": [
    {
     "data": {
      "text/plain": [
       "\u001b[36mres7\u001b[39m: \u001b[32mBoolean\u001b[39m = \u001b[32mfalse\u001b[39m"
      ]
     },
     "execution_count": 8,
     "metadata": {},
     "output_type": "execute_result"
    }
   ],
   "source": [
    "1 =/= 2 && false"
   ]
  },
  {
   "cell_type": "markdown",
   "metadata": {},
   "source": [
    "* `/==` はカス。`=/=` を使う事"
   ]
  },
  {
   "cell_type": "markdown",
   "metadata": {},
   "source": [
    "### Order\n",
    "* Scala Ord\n",
    "* Scalaz Order"
   ]
  },
  {
   "cell_type": "code",
   "execution_count": 9,
   "metadata": {},
   "outputs": [
    {
     "data": {
      "text/plain": [
       "\u001b[36mres8\u001b[39m: \u001b[32mBoolean\u001b[39m = \u001b[32mfalse\u001b[39m"
      ]
     },
     "execution_count": 9,
     "metadata": {},
     "output_type": "execute_result"
    }
   ],
   "source": [
    "1 > 2.0"
   ]
  },
  {
   "cell_type": "code",
   "execution_count": 9,
   "metadata": {},
   "outputs": [
    {
     "name": "stderr",
     "output_type": "stream",
     "text": [
      "cmd9.sc:1: type mismatch;\n",
      " found   : Double(2.0)\n",
      " required: Int\n",
      "val res9 = 1 gt 2.0\n",
      "                ^"
     ]
    },
    {
     "ename": "",
     "evalue": "",
     "execution_count": 9,
     "output_type": "error",
     "status": "error",
     "traceback": [
      "Compilation Failed"
     ]
    }
   ],
   "source": [
    "1 gt 2.0"
   ]
  },
  {
   "cell_type": "code",
   "execution_count": 10,
   "metadata": {},
   "outputs": [
    {
     "data": {
      "text/plain": [
       "\u001b[36mres9\u001b[39m: \u001b[32mOrdering\u001b[39m = LT"
      ]
     },
     "execution_count": 10,
     "metadata": {},
     "output_type": "execute_result"
    }
   ],
   "source": [
    "1.0 ?|? 2.0"
   ]
  },
  {
   "cell_type": "code",
   "execution_count": 11,
   "metadata": {},
   "outputs": [
    {
     "data": {
      "text/plain": [
       "\u001b[36mres10\u001b[39m: \u001b[32mDouble\u001b[39m = \u001b[32m2.0\u001b[39m"
      ]
     },
     "execution_count": 11,
     "metadata": {},
     "output_type": "execute_result"
    }
   ],
   "source": [
    "1.0 max 2.0"
   ]
  },
  {
   "cell_type": "markdown",
   "metadata": {},
   "source": [
    "* IntとDoubleの比較ならコンパイルエラーにならなくても良いような気がするけど、 `1 = 1.0` じゃないからってことかな"
   ]
  },
  {
   "cell_type": "markdown",
   "metadata": {},
   "source": [
    "### Show\n",
    "* Scala: Show\n",
    "* Scalaz: Show"
   ]
  },
  {
   "cell_type": "code",
   "execution_count": 12,
   "metadata": {},
   "outputs": [
    {
     "data": {
      "text/plain": [
       "\u001b[36mres11\u001b[39m: \u001b[32mCord\u001b[39m = 3"
      ]
     },
     "execution_count": 12,
     "metadata": {},
     "output_type": "execute_result"
    }
   ],
   "source": [
    "3.show"
   ]
  },
  {
   "cell_type": "code",
   "execution_count": 13,
   "metadata": {},
   "outputs": [
    {
     "data": {
      "text/plain": [
       "\u001b[36mres12\u001b[39m: \u001b[32mString\u001b[39m = \u001b[32m\"3\"\u001b[39m"
      ]
     },
     "execution_count": 13,
     "metadata": {},
     "output_type": "execute_result"
    }
   ],
   "source": [
    "3.shows"
   ]
  },
  {
   "cell_type": "code",
   "execution_count": 14,
   "metadata": {},
   "outputs": [
    {
     "name": "stdout",
     "output_type": "stream",
     "text": [
      "\"hello\"\n"
     ]
    }
   ],
   "source": [
    "\"hello\".println"
   ]
  },
  {
   "cell_type": "markdown",
   "metadata": {},
   "source": [
    "* ( ..)φ CordはScalazの潜在的に長い可能性のある文字列を保持できる純粋関数型データ構造\n",
    "* `final case class Cord(self: FingerTree[Int, String])`"
   ]
  },
  {
   "cell_type": "markdown",
   "metadata": {},
   "source": [
    "### Read\n",
    "* 対応するScalazの型クラスなし?"
   ]
  },
  {
   "cell_type": "markdown",
   "metadata": {},
   "source": [
    "### Enum\n",
    "* Scala: Enum\n",
    "* Scalaz: Enum"
   ]
  },
  {
   "cell_type": "code",
   "execution_count": 15,
   "metadata": {},
   "outputs": [
    {
     "data": {
      "text/plain": [
       "\u001b[36mres14\u001b[39m: \u001b[32mcollection\u001b[39m.\u001b[32mimmutable\u001b[39m.\u001b[32mNumericRange\u001b[39m.\u001b[32mInclusive\u001b[39m[\u001b[32mChar\u001b[39m] = \u001b[33mNumericRange\u001b[39m(\u001b[32m'a'\u001b[39m, \u001b[32m'b'\u001b[39m, \u001b[32m'c'\u001b[39m, \u001b[32m'd'\u001b[39m, \u001b[32m'e'\u001b[39m)"
      ]
     },
     "execution_count": 15,
     "metadata": {},
     "output_type": "execute_result"
    }
   ],
   "source": [
    "'a' to 'e'"
   ]
  },
  {
   "cell_type": "code",
   "execution_count": 16,
   "metadata": {},
   "outputs": [
    {
     "data": {
      "text/plain": [
       "\u001b[36mres15\u001b[39m: \u001b[32mList\u001b[39m[\u001b[32mChar\u001b[39m] = \u001b[33mList\u001b[39m(\u001b[32m'a'\u001b[39m, \u001b[32m'b'\u001b[39m, \u001b[32m'c'\u001b[39m, \u001b[32m'd'\u001b[39m, \u001b[32m'e'\u001b[39m)"
      ]
     },
     "execution_count": 16,
     "metadata": {},
     "output_type": "execute_result"
    }
   ],
   "source": [
    "'a' |-> 'e'"
   ]
  },
  {
   "cell_type": "code",
   "execution_count": 17,
   "metadata": {},
   "outputs": [
    {
     "data": {
      "text/plain": [
       "\u001b[36mres16\u001b[39m: \u001b[32mEphemeralStream\u001b[39m[\u001b[32mInt\u001b[39m] = scalaz.EphemeralStream$$anon$5@101bf6b1"
      ]
     },
     "execution_count": 17,
     "metadata": {},
     "output_type": "execute_result"
    }
   ],
   "source": [
    "3 |=> 5"
   ]
  },
  {
   "cell_type": "code",
   "execution_count": 18,
   "metadata": {},
   "outputs": [
    {
     "data": {
      "text/plain": [
       "\u001b[36mres17\u001b[39m: \u001b[32mChar\u001b[39m = \u001b[32m'C'\u001b[39m"
      ]
     },
     "execution_count": 18,
     "metadata": {},
     "output_type": "execute_result"
    }
   ],
   "source": [
    "'B'.succ"
   ]
  },
  {
   "cell_type": "markdown",
   "metadata": {},
   "source": [
    "### Bounded\n",
    "Bounded型クラスのインスタンスは上限と下限値を持ち、minBoundとmaxBoundで調べる事ができる\n",
    "* Scala:  Bounded\n",
    "* Scalaz: Enum"
   ]
  },
  {
   "cell_type": "code",
   "execution_count": 19,
   "metadata": {},
   "outputs": [
    {
     "data": {
      "text/plain": [
       "\u001b[36mres18\u001b[39m: \u001b[32mOption\u001b[39m[\u001b[32mChar\u001b[39m] = \u001b[33mSome\u001b[39m(\u001b[32m'\u0000'\u001b[39m)"
      ]
     },
     "execution_count": 19,
     "metadata": {},
     "output_type": "execute_result"
    }
   ],
   "source": [
    "implicitly[Enum[Char]].min"
   ]
  },
  {
   "cell_type": "code",
   "execution_count": 20,
   "metadata": {},
   "outputs": [
    {
     "data": {
      "text/plain": [
       "\u001b[36mres19\u001b[39m: \u001b[32mOption\u001b[39m[\u001b[32mChar\u001b[39m] = \u001b[33mSome\u001b[39m(\u001b[32m'￿'\u001b[39m)"
      ]
     },
     "execution_count": 20,
     "metadata": {},
     "output_type": "execute_result"
    }
   ],
   "source": [
    "implicitly[Enum[Char]].max"
   ]
  },
  {
   "cell_type": "code",
   "execution_count": 22,
   "metadata": {},
   "outputs": [
    {
     "name": "stderr",
     "output_type": "stream",
     "text": [
      "cmd22.sc:1: could not find implicit value for parameter e: scalaz.Enum[Double]\n",
      "val res22 = implicitly[Enum[Double]].max\n",
      "                      ^"
     ]
    },
    {
     "ename": "",
     "evalue": "",
     "execution_count": 22,
     "output_type": "error",
     "status": "error",
     "traceback": [
      "Compilation Failed"
     ]
    }
   ],
   "source": [
    "implicitly[Enum[Double]].max"
   ]
  },
  {
   "cell_type": "code",
   "execution_count": 21,
   "metadata": {},
   "outputs": [
    {
     "data": {
      "text/plain": [
       "\u001b[36mres20\u001b[39m: \u001b[32mOption\u001b[39m[\u001b[32mInt\u001b[39m] = \u001b[33mSome\u001b[39m(\u001b[32m-2147483648\u001b[39m)"
      ]
     },
     "execution_count": 21,
     "metadata": {},
     "output_type": "execute_result"
    }
   ],
   "source": [
    "implicitly[Enum[Int]].min"
   ]
  },
  {
   "cell_type": "code",
   "execution_count": 22,
   "metadata": {},
   "outputs": [
    {
     "name": "stderr",
     "output_type": "stream",
     "text": [
      "cmd22.sc:1: could not find implicit value for parameter e: scalaz.Enum[(Boolean, Int, Char)]\n",
      "val res22 = implicitly[Enum[(Boolean, Int, Char)]].max\n",
      "                      ^"
     ]
    },
    {
     "ename": "",
     "evalue": "",
     "execution_count": 22,
     "output_type": "error",
     "status": "error",
     "traceback": [
      "Compilation Failed"
     ]
    }
   ],
   "source": [
    "implicitly[Enum[(Boolean, Int, Char)]].max"
   ]
  },
  {
   "cell_type": "markdown",
   "metadata": {},
   "source": [
    "* `Enum[Double]` もないんだけど\n",
    "* `def implicitly[T](implicit e: T): T = e` 型レベルの計算の結果を確認するのに使われるテクニックらしい"
   ]
  },
  {
   "cell_type": "code",
   "execution_count": 27,
   "metadata": {},
   "outputs": [
    {
     "data": {
      "text/plain": [
       "\u001b[36mres26\u001b[39m: \u001b[32mInt\u001b[39m \u001b[32m<:<\u001b[39m \u001b[32mAnyVal\u001b[39m = <function1>"
      ]
     },
     "execution_count": 27,
     "metadata": {},
     "output_type": "execute_result"
    }
   ],
   "source": [
    "implicitly[Int <:< AnyVal]"
   ]
  },
  {
   "cell_type": "markdown",
   "metadata": {},
   "source": [
    "### Num\n",
    "* Num, FLoating, Integral に対応する型クラスはなし?"
   ]
  },
  {
   "cell_type": "markdown",
   "metadata": {},
   "source": [
    "### 型クラス中級講座\n",
    "* 信号の型クラスを作る"
   ]
  },
  {
   "cell_type": "code",
   "execution_count": 28,
   "metadata": {},
   "outputs": [
    {
     "data": {
      "text/plain": [
       "defined \u001b[32mtrait\u001b[39m \u001b[36mTrafficLight\u001b[39m\n",
       "defined \u001b[32mobject\u001b[39m \u001b[36mRed\u001b[39m\n",
       "defined \u001b[32mobject\u001b[39m \u001b[36mYellow\u001b[39m\n",
       "defined \u001b[32mobject\u001b[39m \u001b[36mGreen\u001b[39m"
      ]
     },
     "execution_count": 28,
     "metadata": {},
     "output_type": "execute_result"
    }
   ],
   "source": [
    "sealed trait TrafficLight\n",
    "case object Red extends TrafficLight\n",
    "case object Yellow extends TrafficLight\n",
    "case object Green extends TrafficLight"
   ]
  },
  {
   "cell_type": "markdown",
   "metadata": {},
   "source": [
    "* この書き方は、 algebraic data typeを書くときのパターンらしい\n",
    "* sealed があると、match で case を書き漏らしたときにコンパイルエラーが出るらしい"
   ]
  },
  {
   "cell_type": "code",
   "execution_count": 29,
   "metadata": {},
   "outputs": [
    {
     "data": {
      "text/plain": [
       "\u001b[36mTrafficLightEqual\u001b[39m: \u001b[32mEqual\u001b[39m[\u001b[32mTrafficLight\u001b[39m] = scalaz.Equal$$anon$7@5cd0a32f"
      ]
     },
     "execution_count": 29,
     "metadata": {},
     "output_type": "execute_result"
    }
   ],
   "source": [
    "implicit val TrafficLightEqual: Equal[TrafficLight] = Equal.equal(_ == _)"
   ]
  },
  {
   "cell_type": "code",
   "execution_count": 29,
   "metadata": {},
   "outputs": [
    {
     "name": "stderr",
     "output_type": "stream",
     "text": [
      "cmd29.sc:1: value === is not a member of object cmd29Wrapper.this.cmd27.wrapper.Red\n",
      "val res29 = Red === Yellow\n",
      "                ^"
     ]
    },
    {
     "ename": "",
     "evalue": "",
     "execution_count": 29,
     "output_type": "error",
     "status": "error",
     "traceback": [
      "Compilation Failed"
     ]
    }
   ],
   "source": [
    "Red === Yellow"
   ]
  },
  {
   "cell_type": "code",
   "execution_count": 33,
   "metadata": {},
   "outputs": [
    {
     "data": {
      "text/plain": [
       "defined \u001b[32mclass\u001b[39m \u001b[36mTrafficLight\u001b[39m\n",
       "\u001b[36mred\u001b[39m: \u001b[32mwrapper\u001b[39m.\u001b[32mwrapper\u001b[39m.\u001b[32mTrafficLight\u001b[39m = \u001b[33mTrafficLight\u001b[39m(\u001b[32m\"red\"\u001b[39m)\n",
       "\u001b[36myellow\u001b[39m: \u001b[32mwrapper\u001b[39m.\u001b[32mwrapper\u001b[39m.\u001b[32mTrafficLight\u001b[39m = \u001b[33mTrafficLight\u001b[39m(\u001b[32m\"yellow\"\u001b[39m)\n",
       "\u001b[36mgreen\u001b[39m: \u001b[32mwrapper\u001b[39m.\u001b[32mwrapper\u001b[39m.\u001b[32mTrafficLight\u001b[39m = \u001b[33mTrafficLight\u001b[39m(\u001b[32m\"green\"\u001b[39m)\n",
       "\u001b[36mTrafficLightEqual\u001b[39m: \u001b[32mEqual\u001b[39m[\u001b[32mwrapper\u001b[39m.\u001b[32mwrapper\u001b[39m.\u001b[32mTrafficLight\u001b[39m] = scalaz.Equal$$anon$7@355cad15\n",
       "\u001b[36mres32_5\u001b[39m: \u001b[32mBoolean\u001b[39m = \u001b[32mfalse\u001b[39m"
      ]
     },
     "execution_count": 33,
     "metadata": {},
     "output_type": "execute_result"
    }
   ],
   "source": [
    "case class TrafficLight(name: String)\n",
    "val red = TrafficLight(\"red\")\n",
    "val yellow = TrafficLight(\"yellow\")\n",
    "val green = TrafficLight(\"green\")\n",
    "implicit val TrafficLightEqual: Equal[TrafficLight] = Equal.equal(_ == _)\n",
    "red === yellow"
   ]
  },
  {
   "cell_type": "code",
   "execution_count": 32,
   "metadata": {},
   "outputs": [
    {
     "data": {
      "text/plain": [
       "\u001b[36mres31\u001b[39m: \u001b[32mEqual\u001b[39m.type = scalaz.Equal$@6af29ce1"
      ]
     },
     "execution_count": 32,
     "metadata": {},
     "output_type": "execute_result"
    }
   ],
   "source": [
    "scalaz.Equal"
   ]
  },
  {
   "cell_type": "markdown",
   "metadata": {},
   "source": [
    "* 何で最初のパターンで上手くいかないのかな?\n",
    "* 最初のパターンの方が綺麗なのでそれでやりたいんだけど"
   ]
  },
  {
   "cell_type": "markdown",
   "metadata": {},
   "source": [
    "### Yes と No の型クラス"
   ]
  },
  {
   "cell_type": "code",
   "execution_count": 34,
   "metadata": {},
   "outputs": [
    {
     "data": {
      "text/plain": [
       "defined \u001b[32mtrait\u001b[39m \u001b[36mCanTruthy\u001b[39m\n",
       "defined \u001b[32mobject\u001b[39m \u001b[36mCanTruthy\u001b[39m\n",
       "defined \u001b[32mtrait\u001b[39m \u001b[36mCanTruthyOps\u001b[39m\n",
       "defined \u001b[32mobject\u001b[39m \u001b[36mToCanIsTruthyOps\u001b[39m"
      ]
     },
     "execution_count": 34,
     "metadata": {},
     "output_type": "execute_result"
    }
   ],
   "source": [
    "trait CanTruthy[A] { self =>\n",
    "    def truthys(a: A): Boolean\n",
    "}\n",
    "object CanTruthy {\n",
    "    def apply[A](implicit ev: CanTruthy[A]): CanTruthy[A] = ev\n",
    "    def truthys[A](f: A => Boolean): CanTruthy[A] = new CanTruthy[A] {\n",
    "        def truthys(a: A): Boolean = f(a)\n",
    "    }\n",
    "}\n",
    "trait CanTruthyOps[A] {\n",
    "    def self: A\n",
    "    implicit def F: CanTruthy[A]\n",
    "    final def truthy: Boolean = F.truthys(self)\n",
    "}\n",
    "object ToCanIsTruthyOps {\n",
    "    implicit def toCanIsTruthyOps[A](v: A)(implicit ev: CanTruthy[A]) =\n",
    "    new CanTruthyOps[A] {\n",
    "        def self = v\n",
    "        implicit def F: CanTruthy[A] = ev\n",
    "    }\n",
    "}"
   ]
  },
  {
   "cell_type": "code",
   "execution_count": 35,
   "metadata": {},
   "outputs": [
    {
     "data": {
      "text/plain": [
       "\u001b[32mimport \u001b[39m\u001b[36mToCanIsTruthyOps._\u001b[39m"
      ]
     },
     "execution_count": 35,
     "metadata": {},
     "output_type": "execute_result"
    }
   ],
   "source": [
    "import ToCanIsTruthyOps._"
   ]
  },
  {
   "cell_type": "code",
   "execution_count": 36,
   "metadata": {},
   "outputs": [
    {
     "data": {
      "text/plain": [
       "\u001b[36mintCanTruthy\u001b[39m: \u001b[32mCanTruthy\u001b[39m[\u001b[32mInt\u001b[39m] = $sess.cmd33Wrapper$Helper$CanTruthy$$anon$1@62677b0d"
      ]
     },
     "execution_count": 36,
     "metadata": {},
     "output_type": "execute_result"
    }
   ],
   "source": [
    "implicit val intCanTruthy: CanTruthy[Int] = CanTruthy.truthys({\n",
    "    case 0 => false\n",
    "    case _ => true\n",
    "})"
   ]
  },
  {
   "cell_type": "code",
   "execution_count": 37,
   "metadata": {},
   "outputs": [
    {
     "data": {
      "text/plain": [
       "\u001b[36mres36_0\u001b[39m: \u001b[32mBoolean\u001b[39m = \u001b[32mtrue\u001b[39m\n",
       "\u001b[36mres36_1\u001b[39m: \u001b[32mBoolean\u001b[39m = \u001b[32mfalse\u001b[39m"
      ]
     },
     "execution_count": 37,
     "metadata": {},
     "output_type": "execute_result"
    }
   ],
   "source": [
    "10.truthy\n",
    "0.truthy"
   ]
  },
  {
   "cell_type": "code",
   "execution_count": 38,
   "metadata": {},
   "outputs": [
    {
     "data": {
      "text/plain": [
       "defined \u001b[32mfunction\u001b[39m \u001b[36mlistCanTruthy\u001b[39m"
      ]
     },
     "execution_count": 38,
     "metadata": {},
     "output_type": "execute_result"
    }
   ],
   "source": [
    "implicit def listCanTruthy[A]: CanTruthy[List[A]] = CanTruthy.truthys({\n",
    "    case Nil => false\n",
    "    case _ => true\n",
    "})"
   ]
  },
  {
   "cell_type": "code",
   "execution_count": 39,
   "metadata": {},
   "outputs": [
    {
     "name": "stderr",
     "output_type": "stream",
     "text": [
      "cmd39.sc:1: value truthy is not a member of object Nil\n",
      "val res39 = Nil.truthy\n",
      "                ^"
     ]
    },
    {
     "ename": "",
     "evalue": "",
     "execution_count": 39,
     "output_type": "error",
     "status": "error",
     "traceback": [
      "Compilation Failed"
     ]
    }
   ],
   "source": [
    "Nil.truthy"
   ]
  },
  {
   "cell_type": "code",
   "execution_count": 40,
   "metadata": {},
   "outputs": [
    {
     "data": {
      "text/plain": [
       "\u001b[36mnilCanTruthy\u001b[39m: \u001b[32mCanTruthy\u001b[39m[\u001b[32mNil\u001b[39m.type] = $sess.cmd33Wrapper$Helper$CanTruthy$$anon$1@bbca42b"
      ]
     },
     "execution_count": 40,
     "metadata": {},
     "output_type": "execute_result"
    }
   ],
   "source": [
    "implicit val nilCanTruthy: CanTruthy[scala.collection.immutable.Nil.type] = CanTruthy.truthys({\n",
    "    _ => false\n",
    "})"
   ]
  },
  {
   "cell_type": "code",
   "execution_count": 41,
   "metadata": {},
   "outputs": [
    {
     "data": {
      "text/plain": [
       "\u001b[36mres40\u001b[39m: \u001b[32mBoolean\u001b[39m = \u001b[32mfalse\u001b[39m"
      ]
     },
     "execution_count": 41,
     "metadata": {},
     "output_type": "execute_result"
    }
   ],
   "source": [
    "Nil.truthy"
   ]
  },
  {
   "cell_type": "code",
   "execution_count": 42,
   "metadata": {},
   "outputs": [
    {
     "data": {
      "text/plain": [
       "\u001b[36mbooleanCanTruthy\u001b[39m: \u001b[32mCanTruthy\u001b[39m[\u001b[32mBoolean\u001b[39m] = $sess.cmd33Wrapper$Helper$CanTruthy$$anon$1@5ddddc8f"
      ]
     },
     "execution_count": 42,
     "metadata": {},
     "output_type": "execute_result"
    }
   ],
   "source": [
    "implicit val booleanCanTruthy: CanTruthy[Boolean] = CanTruthy.truthys(identity)"
   ]
  },
  {
   "cell_type": "code",
   "execution_count": 43,
   "metadata": {},
   "outputs": [
    {
     "data": {
      "text/plain": [
       "\u001b[36mres42\u001b[39m: \u001b[32mBoolean\u001b[39m = \u001b[32mfalse\u001b[39m"
      ]
     },
     "execution_count": 43,
     "metadata": {},
     "output_type": "execute_result"
    }
   ],
   "source": [
    "false.truthy"
   ]
  },
  {
   "cell_type": "code",
   "execution_count": 44,
   "metadata": {},
   "outputs": [
    {
     "data": {
      "text/plain": [
       "defined \u001b[32mfunction\u001b[39m \u001b[36mtruthyIf\u001b[39m"
      ]
     },
     "execution_count": 44,
     "metadata": {},
     "output_type": "execute_result"
    }
   ],
   "source": [
    "def truthyIf[A: CanTruthy, B, C](cond: A)(ifyes: => B)(ifno: => C) =\n",
    "  if (cond.truthy) ifyes\n",
    "  else ifno"
   ]
  },
  {
   "cell_type": "code",
   "execution_count": 45,
   "metadata": {},
   "outputs": [
    {
     "data": {
      "text/plain": [
       "\u001b[36mres44\u001b[39m: \u001b[32mAny\u001b[39m = NO!"
      ]
     },
     "execution_count": 45,
     "metadata": {},
     "output_type": "execute_result"
    }
   ],
   "source": [
    "truthyIf (Nil) {\"YEAH!\"} {\"NO!\"}"
   ]
  },
  {
   "cell_type": "code",
   "execution_count": 46,
   "metadata": {},
   "outputs": [
    {
     "data": {
      "text/plain": [
       "\u001b[36mres45\u001b[39m: \u001b[32mAny\u001b[39m = YEAH!"
      ]
     },
     "execution_count": 46,
     "metadata": {},
     "output_type": "execute_result"
    }
   ],
   "source": [
    "truthyIf (2 :: 3 :: 4 :: Nil) {\"YEAH!\"} {\"NO!\"}"
   ]
  },
  {
   "cell_type": "code",
   "execution_count": 47,
   "metadata": {},
   "outputs": [
    {
     "data": {
      "text/plain": [
       "\u001b[36mres46\u001b[39m: \u001b[32mAny\u001b[39m = YEAH!"
      ]
     },
     "execution_count": 47,
     "metadata": {},
     "output_type": "execute_result"
    }
   ],
   "source": [
    "truthyIf (true) {\"YEAH!\"} {\"NO!\"}"
   ]
  },
  {
   "cell_type": "markdown",
   "metadata": {},
   "source": [
    "* テキストに書いてある「不変な型パラメータのせい」というのがあんまり理解できていない :thinkingface:"
   ]
  }
 ],
 "metadata": {
  "kernelspec": {
   "display_name": "Scala",
   "language": "scala",
   "name": "scala"
  },
  "language_info": {
   "codemirror_mode": "text/x-scala",
   "file_extension": ".scala",
   "mimetype": "text/x-scala",
   "name": "scala211",
   "nbconvert_exporter": "script",
   "pygments_lexer": "scala",
   "version": "2.11.11"
  }
 },
 "nbformat": 4,
 "nbformat_minor": 2
}
