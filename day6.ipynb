{
 "cells": [
  {
   "cell_type": "markdown",
   "metadata": {},
   "source": [
    "## 6日目\n",
    "### for 構文、再び\n",
    "Haskell の do 記法と Scala の for 構文には微妙な違いがある\n",
    "\n",
    "do 表記の例\n",
    "\n",
    "```haskell\n",
    "foo = do\n",
    "  x <- Just 3\n",
    "  y <- Just \"!\"\n",
    "  Just (show x ++ y)\n",
    "```"
   ]
  },
  {
   "cell_type": "code",
   "execution_count": 1,
   "metadata": {},
   "outputs": [
    {
     "data": {
      "text/plain": [
       "\u001b[32mimport \u001b[39m\u001b[36mscalaz._, Scalaz._\u001b[39m"
      ]
     },
     "execution_count": 1,
     "metadata": {},
     "output_type": "execute_result"
    }
   ],
   "source": [
    "import scalaz._, Scalaz._"
   ]
  },
  {
   "cell_type": "code",
   "execution_count": 2,
   "metadata": {},
   "outputs": [
    {
     "data": {
      "text/plain": [
       "defined \u001b[32mfunction\u001b[39m \u001b[36mfoo\u001b[39m"
      ]
     },
     "execution_count": 2,
     "metadata": {},
     "output_type": "execute_result"
    }
   ],
   "source": [
    "def foo = for {\n",
    "    x <- 3.some\n",
    "    y <- \"!\".some\n",
    "} yield x.shows + y"
   ]
  },
  {
   "cell_type": "markdown",
   "metadata": {},
   "source": [
    "* Haskell はモナディックな値を最後に返す\n",
    "* Scala は素の値を yield が強制的にコンテキストに入れている"
   ]
  },
  {
   "cell_type": "markdown",
   "metadata": {},
   "source": [
    "```haskell\n",
    "in3 start = do\n",
    "  first <- moveKnight start\n",
    "  second <- moveKnight first\n",
    "  moveKnight second\n",
    "```\n",
    "\n",
    "* Scala では moveKnight second の値を抽出して yield で再包装せずに書くことができない\n",
    "\n",
    "```scala\n",
    "def in3: List[KnightPos] = for {\n",
    "    first <- move\n",
    "    second <- first.move\n",
    "    third <- second.move\n",
    "} yield third\n",
    "```"
   ]
  },
  {
   "cell_type": "markdown",
   "metadata": {},
   "source": [
    "### Writer? 中の人なんていません!\n",
    "* Maybeモナドが失敗の可能性という文脈付きの値を表し、リストモナドが非決定性がついた値を表しているのに対し、Writerモナドは、もう１つの値がくっついた値を表し、付加された値はログのように振舞います。\n",
    "\n",
    "applyLog関数を実装してみよう"
   ]
  },
  {
   "cell_type": "code",
   "execution_count": 3,
   "metadata": {},
   "outputs": [
    {
     "data": {
      "text/plain": [
       "defined \u001b[32mfunction\u001b[39m \u001b[36misBigGang\u001b[39m"
      ]
     },
     "execution_count": 3,
     "metadata": {},
     "output_type": "execute_result"
    }
   ],
   "source": [
    "def isBigGang(x: Int): (Boolean, String) =\n",
    "  (x > 9, \"Compared gang size to 9.\")"
   ]
  },
  {
   "cell_type": "code",
   "execution_count": 4,
   "metadata": {},
   "outputs": [
    {
     "data": {
      "text/plain": [
       "defined \u001b[32mclass\u001b[39m \u001b[36mPairOps\u001b[39m"
      ]
     },
     "execution_count": 4,
     "metadata": {},
     "output_type": "execute_result"
    }
   ],
   "source": [
    "implicit class PairOps[A](pair: (A, String)) {\n",
    "    def applyLog[B](f: A => (B, String)): (B, String) = {\n",
    "        val (x, log) = pair\n",
    "        val (y, newlog) = f(x)\n",
    "        (y, log ++ newlog)\n",
    "    }\n",
    "}"
   ]
  },
  {
   "cell_type": "code",
   "execution_count": 5,
   "metadata": {},
   "outputs": [
    {
     "data": {
      "text/plain": [
       "\u001b[36mres4\u001b[39m: (\u001b[32mBoolean\u001b[39m, \u001b[32mString\u001b[39m) = (\u001b[32mfalse\u001b[39m, \u001b[32m\"Smallish gang.Compared gang size to 9.\"\u001b[39m)"
      ]
     },
     "execution_count": 5,
     "metadata": {},
     "output_type": "execute_result"
    }
   ],
   "source": [
    "(3, \"Smallish gang.\") applyLog isBigGang"
   ]
  },
  {
   "cell_type": "code",
   "execution_count": 6,
   "metadata": {},
   "outputs": [
    {
     "data": {
      "text/plain": [
       "defined \u001b[32mclass\u001b[39m \u001b[36mPairOps\u001b[39m"
      ]
     },
     "execution_count": 6,
     "metadata": {},
     "output_type": "execute_result"
    }
   ],
   "source": [
    "implicit class PairOps[A, B: Monoid](pair: (A, B)) {\n",
    "    def applyLog[C](f: A => (C, B)): (C, B) = {\n",
    "        val (x, log) = pair\n",
    "        val (y, newlog) = f(x)\n",
    "        (y, log |+| newlog)\n",
    "    }\n",
    "}"
   ]
  },
  {
   "cell_type": "code",
   "execution_count": 7,
   "metadata": {},
   "outputs": [
    {
     "data": {
      "text/plain": [
       "\u001b[36mres6\u001b[39m: (\u001b[32mBoolean\u001b[39m, \u001b[32mString\u001b[39m) = (\u001b[32mfalse\u001b[39m, \u001b[32m\"Smallish gang.Compared gang size to 9.\"\u001b[39m)"
      ]
     },
     "execution_count": 7,
     "metadata": {},
     "output_type": "execute_result"
    }
   ],
   "source": [
    "(3, \"Smallish gang.\") applyLog isBigGang"
   ]
  },
  {
   "cell_type": "markdown",
   "metadata": {},
   "source": [
    "### Writer\n",
    "* 値にモノイドのオマケをつけるには、タプルに入れるだけです。\n",
    "* Writer w a 型の実態は、そんなタプルの newtype ラッパに過ぎず、定義はとてもシンプルです。\n",
    "\n",
    "Scalaz でこれに対応するのは Writer\n",
    "\n",
    "```scala\n",
    "type Writer[+W, +A] = WriterT[Id, W, A]\n",
    "```"
   ]
  },
  {
   "cell_type": "markdown",
   "metadata": {},
   "source": [
    "WriterTを単純化したもの\n",
    "\n",
    "```scala\n",
    "sealed trait WriterT[F[+_], +W, +A] { self =>\n",
    "    val run: F[(W, A)]\n",
    "    \n",
    "    def written(implicit F: Functor[F]): F[W] =\n",
    "      F.map(run)(_._1)\n",
    "    def value(implicit F: Functor[F]): F[A] =\n",
    "      F.map(run)(_._2)\n",
    "}\n",
    "```"
   ]
  },
  {
   "cell_type": "code",
   "execution_count": 8,
   "metadata": {},
   "outputs": [
    {
     "data": {
      "text/plain": [
       "\u001b[36mres7\u001b[39m: \u001b[32mWriter\u001b[39m[\u001b[32mString\u001b[39m, \u001b[32mInt\u001b[39m] = \u001b[33mWriterT\u001b[39m((\u001b[32m\"Smallish gang.\"\u001b[39m, \u001b[32m3\u001b[39m))"
      ]
     },
     "execution_count": 8,
     "metadata": {},
     "output_type": "execute_result"
    }
   ],
   "source": [
    "3.set(\"Smallish gang.\")"
   ]
  },
  {
   "cell_type": "markdown",
   "metadata": {},
   "source": [
    "`import Scalaz._` によって全てのデータ型に対して以下の演算子が導入されるらしい\n",
    "\n",
    "```scala\n",
    "trait ToDataOps extends ToIdOps with ToTreeOps with ToWriterOps with ToValidationOps with ToReducerOps with ToKleisliOps\n",
    "```"
   ]
  },
  {
   "cell_type": "markdown",
   "metadata": {},
   "source": [
    "件の演算子は WriterOpsの一部\n",
    "\n",
    "```scala\n",
    "final class WriterOps[A](self: A) {\n",
    "    def set[W](w: W): Writer[W, A] = WriterT.writer(w -> self)\n",
    "    \n",
    "    def tell: Writer[A, Unit] = WriterT.tell(self)\n",
    "}\n",
    "```"
   ]
  },
  {
   "cell_type": "code",
   "execution_count": 9,
   "metadata": {},
   "outputs": [
    {
     "data": {
      "text/plain": [
       "\u001b[36mres8\u001b[39m: \u001b[32mWriter\u001b[39m[\u001b[32mString\u001b[39m, \u001b[32mInt\u001b[39m] = \u001b[33mWriterT\u001b[39m((\u001b[32m\"something\"\u001b[39m, \u001b[32m3\u001b[39m))"
      ]
     },
     "execution_count": 9,
     "metadata": {},
     "output_type": "execute_result"
    }
   ],
   "source": [
    "3.set(\"something\")"
   ]
  },
  {
   "cell_type": "code",
   "execution_count": 10,
   "metadata": {},
   "outputs": [
    {
     "data": {
      "text/plain": [
       "\u001b[36mres9\u001b[39m: \u001b[32mWriter\u001b[39m[\u001b[32mString\u001b[39m, \u001b[32mUnit\u001b[39m] = \u001b[33mWriterT\u001b[39m((\u001b[32m\"something\"\u001b[39m, \u001b[32m()\u001b[39m))"
      ]
     },
     "execution_count": 10,
     "metadata": {},
     "output_type": "execute_result"
    }
   ],
   "source": [
    "\"something\".tell"
   ]
  },
  {
   "cell_type": "code",
   "execution_count": 10,
   "metadata": {},
   "outputs": [
    {
     "name": "stderr",
     "output_type": "stream",
     "text": [
      "cmd10.sc:1: scalaz.Writer takes two type parameters, expected: one\n",
      "val res10 = scalaz.MonadTell[scalaz.Writer, String]\n",
      "                                    ^"
     ]
    },
    {
     "ename": "",
     "evalue": "",
     "execution_count": 10,
     "output_type": "error",
     "status": "error",
     "traceback": [
      "Compilation Failed"
     ]
    }
   ],
   "source": [
    "scalaz.MonadTell[scalaz.Writer, String]"
   ]
  },
  {
   "cell_type": "code",
   "execution_count": 10,
   "metadata": {},
   "outputs": [
    {
     "name": "stderr",
     "output_type": "stream",
     "text": [
      "cmd10.sc:1: scalaz.Writer takes two type parameters, expected: one\n",
      "val res10 = MonadTell[Writer, String].point(3).run\n",
      "                      ^"
     ]
    },
    {
     "ename": "",
     "evalue": "",
     "execution_count": 10,
     "output_type": "error",
     "status": "error",
     "traceback": [
      "Compilation Failed"
     ]
    }
   ],
   "source": [
    "MonadTell[Writer, String].point(3).run"
   ]
  },
  {
   "cell_type": "markdown",
   "metadata": {},
   "source": [
    "* なんでエラーになるのかわからん"
   ]
  },
  {
   "cell_type": "markdown",
   "metadata": {},
   "source": [
    "### Writer に for 構文を使う\n",
    "* こうして Monad インスタンスができたので、 Writer を do 記法で自由に扱えます。"
   ]
  },
  {
   "cell_type": "code",
   "execution_count": 11,
   "metadata": {},
   "outputs": [
    {
     "data": {
      "text/plain": [
       "defined \u001b[32mfunction\u001b[39m \u001b[36mlogNumber\u001b[39m"
      ]
     },
     "execution_count": 11,
     "metadata": {},
     "output_type": "execute_result"
    }
   ],
   "source": [
    "def logNumber(x: Int): Writer[List[String], Int] =\n",
    "  x.set(List(\"Got number: \" + x.shows))"
   ]
  },
  {
   "cell_type": "code",
   "execution_count": 12,
   "metadata": {},
   "outputs": [
    {
     "data": {
      "text/plain": [
       "defined \u001b[32mfunction\u001b[39m \u001b[36mmultiWithLog\u001b[39m"
      ]
     },
     "execution_count": 12,
     "metadata": {},
     "output_type": "execute_result"
    }
   ],
   "source": [
    "def multiWithLog: Writer[List[String], Int] = for {\n",
    "    a <- logNumber(3)\n",
    "    b <- logNumber(5)\n",
    "} yield a * b"
   ]
  },
  {
   "cell_type": "code",
   "execution_count": 13,
   "metadata": {},
   "outputs": [
    {
     "data": {
      "text/plain": [
       "\u001b[36mres12\u001b[39m: (\u001b[32mList\u001b[39m[\u001b[32mString\u001b[39m], \u001b[32mInt\u001b[39m) = (\u001b[33mList\u001b[39m(\u001b[32m\"Got number: 3\"\u001b[39m, \u001b[32m\"Got number: 5\"\u001b[39m), \u001b[32m15\u001b[39m)"
      ]
     },
     "execution_count": 13,
     "metadata": {},
     "output_type": "execute_result"
    }
   ],
   "source": [
    "multiWithLog.run"
   ]
  },
  {
   "cell_type": "code",
   "execution_count": 14,
   "metadata": {},
   "outputs": [
    {
     "data": {
      "text/plain": [
       "defined \u001b[32mfunction\u001b[39m \u001b[36mgcd\u001b[39m"
      ]
     },
     "execution_count": 14,
     "metadata": {},
     "output_type": "execute_result"
    }
   ],
   "source": [
    "def gcd(a: Int, b: Int): Writer[List[String], Int] =\n",
    "  if (b == 0) for {\n",
    "      _ <- List(\"Finished with \" + a.shows).tell\n",
    "    } yield a\n",
    "  else\n",
    "    List(a.shows + \" mod\" + b.shows + \" = \" + (a % b).shows).tell >>= { _ =>\n",
    "      gcd(b, a % b)\n",
    "    }"
   ]
  },
  {
   "cell_type": "code",
   "execution_count": 15,
   "metadata": {},
   "outputs": [
    {
     "data": {
      "text/plain": [
       "\u001b[36mres14\u001b[39m: (\u001b[32mList\u001b[39m[\u001b[32mString\u001b[39m], \u001b[32mInt\u001b[39m) = (\u001b[33mList\u001b[39m(\u001b[32m\"8 mod3 = 2\"\u001b[39m, \u001b[32m\"3 mod2 = 1\"\u001b[39m, \u001b[32m\"2 mod1 = 0\"\u001b[39m, \u001b[32m\"Finished with 1\"\u001b[39m), \u001b[32m1\u001b[39m)"
      ]
     },
     "execution_count": 15,
     "metadata": {},
     "output_type": "execute_result"
    }
   ],
   "source": [
    "gcd(8, 3).run"
   ]
  },
  {
   "cell_type": "markdown",
   "metadata": {},
   "source": [
    "### 非効率な List の構築\n",
    "* Writer モナドを使うときは、使うモナドに気をつけてください。リストを使うととても遅くなる場合があるからです。リストは mappend に ++ を使っていますが、 ++ を使ってリストの最後にものを追加する操作は、そのリストがとても長いと遅くなってしまいます。"
   ]
  },
  {
   "cell_type": "code",
   "execution_count": 16,
   "metadata": {},
   "outputs": [
    {
     "data": {
      "text/plain": [
       "\u001b[36mres15\u001b[39m: \u001b[32mMonoid\u001b[39m[\u001b[32mVector\u001b[39m[\u001b[32mString\u001b[39m]] = scalaz.std.VectorInstances$$anon$4@728a15c8"
      ]
     },
     "execution_count": 16,
     "metadata": {},
     "output_type": "execute_result"
    }
   ],
   "source": [
    "Monoid[Vector[String]]"
   ]
  },
  {
   "cell_type": "code",
   "execution_count": 17,
   "metadata": {},
   "outputs": [
    {
     "data": {
      "text/plain": [
       "defined \u001b[32mfunction\u001b[39m \u001b[36mgcd\u001b[39m"
      ]
     },
     "execution_count": 17,
     "metadata": {},
     "output_type": "execute_result"
    }
   ],
   "source": [
    "def gcd(a: Int, b: Int): Writer[Vector[String], Int] =\n",
    "  if (b == 0) for {\n",
    "      _ <- Vector(\"Finished with \" + a.shows).tell\n",
    "  } yield a\n",
    "  else for {\n",
    "      result <- gcd(b, a % b)\n",
    "      _ <- Vector(a.shows + \" mod\" + b.shows + \" = \" + (a % b).shows).tell\n",
    "  } yield result"
   ]
  },
  {
   "cell_type": "code",
   "execution_count": 18,
   "metadata": {},
   "outputs": [
    {
     "data": {
      "text/plain": [
       "\u001b[36mres17\u001b[39m: (\u001b[32mVector\u001b[39m[\u001b[32mString\u001b[39m], \u001b[32mInt\u001b[39m) = (\u001b[33mVector\u001b[39m(\u001b[32m\"Finished with 1\"\u001b[39m, \u001b[32m\"2 mod1 = 0\"\u001b[39m, \u001b[32m\"3 mod2 = 1\"\u001b[39m, \u001b[32m\"8 mod3 = 2\"\u001b[39m), \u001b[32m1\u001b[39m)"
      ]
     },
     "execution_count": 18,
     "metadata": {},
     "output_type": "execute_result"
    }
   ],
   "source": [
    "gcd(8, 3).run"
   ]
  },
  {
   "cell_type": "markdown",
   "metadata": {},
   "source": [
    "### 性能の比較\n",
    "* 本のように性能を比較するマイクロベンチマークを書いてみよう"
   ]
  },
  {
   "cell_type": "code",
   "execution_count": 19,
   "metadata": {},
   "outputs": [
    {
     "data": {
      "text/plain": [
       "defined \u001b[32mfunction\u001b[39m \u001b[36mvectorFinalCountDown\u001b[39m\n",
       "defined \u001b[32mfunction\u001b[39m \u001b[36mlistFinalCountDown\u001b[39m"
      ]
     },
     "execution_count": 19,
     "metadata": {},
     "output_type": "execute_result"
    }
   ],
   "source": [
    "def vectorFinalCountDown(x: Int): Writer[Vector[String], Unit] = {\n",
    "    import annotation.tailrec\n",
    "    @tailrec def doFinalCountDown(x: Int, w: Writer[Vector[String], Unit]): Writer[Vector[String], Unit] = x match {\n",
    "        case 0 => w >>= { _ => Vector(\"0\").tell }\n",
    "        case x => doFinalCountDown(x - 1, w >>= { _ =>\n",
    "        Vector(x.shows).tell\n",
    "        })\n",
    "    }\n",
    "    val t0 = System.currentTimeMillis\n",
    "    val r = doFinalCountDown(x, Vector[String]().tell)\n",
    "    val t1 = System.currentTimeMillis\n",
    "    r >>= { _ => Vector((t1 - t0).shows + \" msec\").tell }\n",
    "}\n",
    "\n",
    "def listFinalCountDown(x: Int): Writer[List[String], Unit] = {\n",
    "    import annotation.tailrec\n",
    "    @tailrec def doFinalCountDown(x: Int, w: Writer[List[String], Unit]): Writer[List[String], Unit] = x match {\n",
    "        case 0 => w >>= { _ => List(\"0\").tell }\n",
    "        case x => doFinalCountDown(x - 1, w >>= { _ =>\n",
    "        List(x.shows).tell\n",
    "        })\n",
    "    }\n",
    "    val t0 = System.currentTimeMillis\n",
    "    val r = doFinalCountDown(x, List[String]().tell)\n",
    "    val t1 = System.currentTimeMillis\n",
    "    r >>= { _ => List((t1 - t0).shows + \" msec\").tell }\n",
    "}"
   ]
  },
  {
   "cell_type": "code",
   "execution_count": 20,
   "metadata": {},
   "outputs": [
    {
     "data": {
      "text/plain": [
       "\u001b[36mres19\u001b[39m: (\u001b[32mVector\u001b[39m[\u001b[32mString\u001b[39m], \u001b[32mUnit\u001b[39m) = (\n",
       "  \u001b[33mVector\u001b[39m(\n",
       "    \u001b[32m\"10000\"\u001b[39m,\n",
       "    \u001b[32m\"9999\"\u001b[39m,\n",
       "    \u001b[32m\"9998\"\u001b[39m,\n",
       "    \u001b[32m\"9997\"\u001b[39m,\n",
       "    \u001b[32m\"9996\"\u001b[39m,\n",
       "    \u001b[32m\"9995\"\u001b[39m,\n",
       "    \u001b[32m\"9994\"\u001b[39m,\n",
       "    \u001b[32m\"9993\"\u001b[39m,\n",
       "    \u001b[32m\"9992\"\u001b[39m,\n",
       "    \u001b[32m\"9991\"\u001b[39m,\n",
       "\u001b[33m...\u001b[39m"
      ]
     },
     "execution_count": 20,
     "metadata": {},
     "output_type": "execute_result"
    }
   ],
   "source": [
    "vectorFinalCountDown(10000).run"
   ]
  },
  {
   "cell_type": "code",
   "execution_count": 21,
   "metadata": {},
   "outputs": [
    {
     "data": {
      "text/plain": [
       "\u001b[36mres20\u001b[39m: \u001b[32mString\u001b[39m = \u001b[32m\"33 msec\"\u001b[39m"
      ]
     },
     "execution_count": 21,
     "metadata": {},
     "output_type": "execute_result"
    }
   ],
   "source": [
    "res19._1.last"
   ]
  },
  {
   "cell_type": "code",
   "execution_count": 22,
   "metadata": {},
   "outputs": [
    {
     "data": {
      "text/plain": [
       "\u001b[36mres21\u001b[39m: (\u001b[32mList\u001b[39m[\u001b[32mString\u001b[39m], \u001b[32mUnit\u001b[39m) = (\n",
       "  \u001b[33mList\u001b[39m(\n",
       "    \u001b[32m\"10000\"\u001b[39m,\n",
       "    \u001b[32m\"9999\"\u001b[39m,\n",
       "    \u001b[32m\"9998\"\u001b[39m,\n",
       "    \u001b[32m\"9997\"\u001b[39m,\n",
       "    \u001b[32m\"9996\"\u001b[39m,\n",
       "    \u001b[32m\"9995\"\u001b[39m,\n",
       "    \u001b[32m\"9994\"\u001b[39m,\n",
       "    \u001b[32m\"9993\"\u001b[39m,\n",
       "    \u001b[32m\"9992\"\u001b[39m,\n",
       "    \u001b[32m\"9991\"\u001b[39m,\n",
       "\u001b[33m...\u001b[39m"
      ]
     },
     "execution_count": 22,
     "metadata": {},
     "output_type": "execute_result"
    }
   ],
   "source": [
    "listFinalCountDown(10000).run"
   ]
  },
  {
   "cell_type": "code",
   "execution_count": 23,
   "metadata": {},
   "outputs": [
    {
     "data": {
      "text/plain": [
       "\u001b[36mres22\u001b[39m: \u001b[32mString\u001b[39m = \u001b[32m\"961 msec\"\u001b[39m"
      ]
     },
     "execution_count": 23,
     "metadata": {},
     "output_type": "execute_result"
    }
   ],
   "source": [
    "res21._1.last"
   ]
  },
  {
   "cell_type": "markdown",
   "metadata": {},
   "source": [
    "### Reader\n",
    "* 関数を作る型、 (->) r も、 Functor のインスタンスであることを見ました"
   ]
  },
  {
   "cell_type": "code",
   "execution_count": 24,
   "metadata": {},
   "outputs": [
    {
     "data": {
      "text/plain": [
       "\u001b[36mf\u001b[39m: \u001b[32mInt\u001b[39m => \u001b[32mInt\u001b[39m = <function1>"
      ]
     },
     "execution_count": 24,
     "metadata": {},
     "output_type": "execute_result"
    }
   ],
   "source": [
    "val f = (_: Int) * 5"
   ]
  },
  {
   "cell_type": "code",
   "execution_count": 25,
   "metadata": {},
   "outputs": [
    {
     "data": {
      "text/plain": [
       "\u001b[36mg\u001b[39m: \u001b[32mInt\u001b[39m => \u001b[32mInt\u001b[39m = <function1>"
      ]
     },
     "execution_count": 25,
     "metadata": {},
     "output_type": "execute_result"
    }
   ],
   "source": [
    "val g = (_: Int) + 3"
   ]
  },
  {
   "cell_type": "code",
   "execution_count": 26,
   "metadata": {},
   "outputs": [
    {
     "data": {
      "text/plain": [
       "\u001b[36mres25\u001b[39m: \u001b[32mInt\u001b[39m = \u001b[32m55\u001b[39m"
      ]
     },
     "execution_count": 26,
     "metadata": {},
     "output_type": "execute_result"
    }
   ],
   "source": [
    "(g map f)(8)"
   ]
  },
  {
   "cell_type": "markdown",
   "metadata": {},
   "source": [
    "* それから、関数はアプリカティブファンクターであることも見ました。これにより、関数が将来返すであろう値を、既に持っているかのように演算できるようになりました"
   ]
  },
  {
   "cell_type": "code",
   "execution_count": 27,
   "metadata": {},
   "outputs": [
    {
     "data": {
      "text/plain": [
       "\u001b[36mf\u001b[39m: \u001b[32mInt\u001b[39m => \u001b[32mInt\u001b[39m = <function1>"
      ]
     },
     "execution_count": 27,
     "metadata": {},
     "output_type": "execute_result"
    }
   ],
   "source": [
    "val f = ({(_: Int) * 2} |@| {(_: Int) + 10}) {_ + _}"
   ]
  },
  {
   "cell_type": "code",
   "execution_count": 28,
   "metadata": {},
   "outputs": [
    {
     "data": {
      "text/plain": [
       "\u001b[36mres27\u001b[39m: \u001b[32mInt\u001b[39m = \u001b[32m19\u001b[39m"
      ]
     },
     "execution_count": 28,
     "metadata": {},
     "output_type": "execute_result"
    }
   ],
   "source": [
    "f(3)"
   ]
  },
  {
   "cell_type": "markdown",
   "metadata": {},
   "source": [
    "* 関数の型 (->) r はファンクターであり、アプリカティブファンクターであるばかりでなく、モナドでもあります。これまでに登場したモナド値と同様、関数もまた文脈を持った値だとみなすことができるのです。関数にとっての文脈とは、値がまだ手元になく、値が欲しければその関数を別の何かに適用しないといけない、というものです"
   ]
  },
  {
   "cell_type": "code",
   "execution_count": 29,
   "metadata": {},
   "outputs": [
    {
     "data": {
      "text/plain": [
       "\u001b[36maddStuff\u001b[39m: \u001b[32mInt\u001b[39m => \u001b[32mInt\u001b[39m = <function1>"
      ]
     },
     "execution_count": 29,
     "metadata": {},
     "output_type": "execute_result"
    }
   ],
   "source": [
    "val addStuff: Int => Int = for {\n",
    "    a <- (_: Int) * 2\n",
    "    b <- (_: Int) + 10\n",
    "} yield a + b"
   ]
  },
  {
   "cell_type": "code",
   "execution_count": 30,
   "metadata": {},
   "outputs": [
    {
     "data": {
      "text/plain": [
       "\u001b[36mres29\u001b[39m: \u001b[32mInt\u001b[39m = \u001b[32m19\u001b[39m"
      ]
     },
     "execution_count": 30,
     "metadata": {},
     "output_type": "execute_result"
    }
   ],
   "source": [
    "addStuff(3)"
   ]
  },
  {
   "cell_type": "markdown",
   "metadata": {},
   "source": [
    "* (*2) to (+10) はどちらも 3 に適用されます。実は、 return (a+b) も同じく 3 に適用されるんですが、引数を無視して常に a+b を返しています。そういうわけで、関数モナドは Reader モナドとも呼ばれたりします。全ての関数が共通の情報を「読む」からです。\n",
    "\n",
    "Reader モナドは値が既にあるかのようなフリをさせてくれる。"
   ]
  }
 ],
 "metadata": {
  "kernelspec": {
   "display_name": "Scala",
   "language": "scala",
   "name": "scala"
  },
  "language_info": {
   "codemirror_mode": "text/x-scala",
   "file_extension": ".scala",
   "mimetype": "text/x-scala",
   "name": "scala211",
   "nbconvert_exporter": "script",
   "pygments_lexer": "scala",
   "version": "2.11.11"
  }
 },
 "nbformat": 4,
 "nbformat_minor": 2
}
